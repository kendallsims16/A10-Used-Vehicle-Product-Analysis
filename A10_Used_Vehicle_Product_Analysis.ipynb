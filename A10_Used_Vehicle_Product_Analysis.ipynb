{
  "cells": [
    {
      "cell_type": "markdown",
      "metadata": {
        "id": "DKD_bS5yQHAj"
      },
      "source": [
        "<font face=\"Helvetica\" size=6.9 color='#972c6b'> **Used Vehicle Product Analysis** <font>"
      ]
    },
    {
      "cell_type": "markdown",
      "metadata": {
        "id": "TFbcwfB9QHAl"
      },
      "source": [
        "<font face=\"Helvetica\" size=4> **Group A10** <font>\n",
        "\n",
        "*   <font face=\"Helvetica\" size=3> Rick Wang\n",
        "*   Ohm Srikiatkhachorn\n",
        "*   Nan Li\n",
        "*   Kendall Sims\n",
        "*   Jay Singh\n",
        "*   Ari Kolahal<font>"
      ]
    },
    {
      "cell_type": "markdown",
      "metadata": {
        "id": "2m5LkLogQHAm"
      },
      "source": [
        "<font face=\"Helvetica\" size=4> **Table of Contents** <font>\n",
        "\n",
        "\n",
        "1.<font face=\"Helvetica\" size=3>   Executive Summary <font>\n",
        "\n",
        "2.<font face=\"Helvetica\" size=3>   Project Proposal<font>\n",
        "  * <font face=\"Helvetica\" size=3>  Introduction<font>\n",
        "  * <font face=\"Helvetica\" size=3> Motivation <font>\n",
        "\n",
        "3.<font face=\"Helvetica\" size=3> Data & its Source<font>\n",
        "* <font face=\"Helvetica\" size=3>  Data Dictonary <font>\n",
        "\n",
        "\n",
        "4.<font face=\"Helvetica\" size=3>     Data Cleaning and Manipulation <font>\n",
        "\n",
        "5.<font face=\"Helvetica\" size=3> Exploratory Data Analysis & Questions<font>\n",
        "\n",
        "6.Conclusions\n",
        "\n",
        "7.Reference\n",
        "\n",
        "8.<font face=\"Helvetica\" size=3> Generative AI Disclosure <font>"
      ]
    },
    {
      "cell_type": "markdown",
      "source": [
        "<font face=\"Helvetica\" size=6 color=972c6b> **Executive Summary** <font>\n",
        "\n",
        "----\n",
        "This report analyzes the factors affecting used car prices in the US and the UK. Using Python libraries like pandas, matplotlib, seaborn, and numpy, we examined key features (brand, model, transmission type, fuel type, mileage, engine size, and mpg) to identify trends in pricing. Before conducting our analyses, we performed data cleaning, merged the US and UK datasets, and consulted external resources on used car pricing to help form hypotheses and provide context. Our goal is to assist sellers in the US and the UK with setting competitive prices based on car features and to help buyers ensure they are paying fair prices. Ultimately, we seek to provide insights that maximize profits for sellers and help buyers get the best deals.\n",
        "\n",
        "The most popular car brands in our dataset are Ford, Mercades, Volkswagen, Vauxhall, and BMW. Key findings from our dataset reveal that the majority of the top car brands are from Germany or the US, making these two countries dominant in car manufacturing. We found that mileage, mpg, and engine size have the strongest correlation with price, with engine size showing significant variability, likely influenced by luxury or high-performance models. On average, US cars are more expensive than UK cars. Additionally, petrol and diesel fueled cars are predominately manual, while hybrid cars are mostly automatic. Hybrid cars tend to be more expensive than petrol or diesel vehicles, making them less accessible to the average consumer. This pricing trend contributes to environmental concerns, as more affordable petrol and diesel cars continue to dominate the market, leading to climate change and air pollution."
      ],
      "metadata": {
        "id": "3EUNdlvFnGgd"
      }
    },
    {
      "cell_type": "markdown",
      "metadata": {
        "id": "_m0ZwxucQHAn"
      },
      "source": [
        "<font face=\"Helvetica\" size=6 color=972c6b> **Project Proposal** <font>\n",
        "\n",
        "\n",
        "\n",
        "\n",
        "\n",
        "\n",
        "\n",
        "\n",
        "\n",
        "\n"
      ]
    },
    {
      "cell_type": "markdown",
      "metadata": {
        "id": "hfajcolNQHAn"
      },
      "source": [
        "<font face=\"Helvetica\" size=5 color=2e062f> **Introduction** <font>\n",
        "\n",
        "---\n",
        "\n",
        "The automotive industry is characterized by an abundance of vehicles equipped with rapidly advancing technology and rising prices. Simultaneously, inflation and growing concerns about climate change present significant challenges. This raises a critical question: How can we maintain a vehicle that is both environmentally sustainable and technologically advanced?\n",
        "\n",
        "One solution is the purchase of second-hand vehicles. In the United Kingdom, the used car market is projected to grow from USD 58.12 billion in 2024 to USD 89.32 billion by 2029, with a compound annual growth rate of 11.70%. In the United States, the market was valued at USD 195.84 billion in 2021 and is expected to reach USD 302.47 billion by 2027.\n",
        "\n",
        "\n",
        "\n",
        "<font face=\"Helvetica\" size=5, color = 2e062f> **Motivation** <font>\n",
        "\n",
        "---\n",
        "\n",
        "The vehicle market has historically lacked transparency, with prices often dictated by dealers. This is particularly challenging for individuals looking to trade in or sell their cars, as they typically lack clear pricing benchmarks and informed negotiation strategies. In this project, Team 10 aims to analyze used vehicle sales data from the United States and the United Kingdom to provide valuable insights into the key factors that affect a car's value. This will equip sellers with a reliable pricing reference, enabling more effective negotiations with dealers. Additionally, the analysis will help buyers secure better deals aligned with market trends.\n",
        "\n"
      ]
    },
    {
      "cell_type": "markdown",
      "metadata": {
        "id": "JrkQw-m8QHAn"
      },
      "source": [
        "<font face=\"Helvetica\" size=6 color=972c6b> **Data & its Source** <font>\n",
        "\n",
        "----\n",
        "The data utilized for this project comes from two sources:\n",
        "\n",
        "1.[**UK Used Car Dataset**:](https://www.kaggle.com/datasets/adityadesai13/used-car-dataset-ford-and-mercedes)<font>\n",
        "* Consists of 100,000 used car sales data rows distributed into 11 datasets with 9-11 columns.\n",
        "* In order to conduct proper analysis, these datasets were merged with the common set of columns across the datasets.\n",
        "\n",
        "2.[**US Used Car Dataset**:](https://www.kaggle.com/datasets/taeefnajib/used-car-price-prediction-dataset)\n",
        "* Consists of 4,000 used car sales data rows distributed across 12 columns.\n",
        "* This dataset was later merged with the UK car sales data and the relevant columns were retained for the analysis.\n",
        "\n",
        "At the end of the the cleaning process, the following represents the metadata:\n",
        "\n",
        "\n",
        "\n"
      ]
    },
    {
      "cell_type": "markdown",
      "metadata": {
        "id": "bZXykI19QHAo"
      },
      "source": [
        "<font face=\"Helvetica\" size=5 color=2e062f> **Data Dictionary** <font>\n",
        "\n",
        "---\n",
        "\n",
        "Column | Description | Data Type\n",
        "------ | ----------- | ---------\n",
        "**brand** | The brand of the car. | ``categorical``\n",
        "**model** | The model of the car. | ``categorical``\n",
        "**year** | The year the car was manufactured. | ``datetime``\n",
        "**transmission** | Type of transmission. | ``categorical``\n",
        "**mileage** | The total mileage on the car (in miles); as a key indicator of wear and potential maintenance requirements. | ``numeric``\n",
        "**fuel_Type** | Type of fuel used.| ``categorical``\n",
        "**engine_size** | The capacity of the car engine (in litres). | ``numeric``\n",
        "**tax** |  The tax amount for the car. | `numeric`\n",
        "**mpg** | Miles per gallon; as a key indicator of fuel efficiency | ``numeric``\n",
        "**country** | The country where the car was sold. | ``numeric``\n",
        "**price** | The price at which the car was sold.| `numeric`\n"
      ]
    },
    {
      "cell_type": "markdown",
      "metadata": {
        "id": "-p7KI7SQQHAo"
      },
      "source": [
        "<font face=\"Helvetica\" size=6 color=972c6b> **Data Cleaning & Manipulation** <font>\n",
        "\n",
        "----"
      ]
    },
    {
      "cell_type": "markdown",
      "metadata": {
        "id": "CSGOhvQmQHAo"
      },
      "source": [
        "<font face=\"Helvetica\" size=4 color=2e062f> **Importing Required Libraries** <font>\n",
        "---"
      ]
    },
    {
      "cell_type": "code",
      "execution_count": 144,
      "metadata": {
        "id": "B8UzoCn6QHAp"
      },
      "outputs": [],
      "source": [
        "import pandas as pd\n",
        "import numpy as np\n",
        "import seaborn as sns\n",
        "import matplotlib.pyplot as plt"
      ]
    },
    {
      "cell_type": "markdown",
      "metadata": {
        "id": "ldTeKSmKQHAq"
      },
      "source": [
        "<font face=\"Helvetica\" size=4 color=2e062f> **Data Cleaning and Transformation** <font>\n",
        "---"
      ]
    },
    {
      "cell_type": "markdown",
      "metadata": {
        "id": "w0QBehliQHAq"
      },
      "source": [
        "During the data cleaning phase, we had a total of 13 files that needed to be cleaned and merged. First, we added a \"brand\" column and a \"country\" column to all the files to ensure that each observation was unique and non-redundant. Next, we standardized the data into a uniform format and consolidated the different names used across the files (e.g., some files used \"Merc,\" \"merc,\" or \"Mercedes-Benz\"). We also standardized the data types throughout the dataset.\n",
        "\n",
        "Before concatenating the UK and USA datasets, we converted the prices in pounds to US dollars. For handling missing values, we grouped the data by brand and filled the missing values with the average numbers for the corresponding brand. If no reference brand data was available, we used the overall average value to fill the null value."
      ]
    },
    {
      "cell_type": "markdown",
      "metadata": {
        "id": "DSR9oZbC2zun"
      },
      "source": [
        "<font face=\"Helvetica\" size=3> **Cleaning the USA Dataset** <font>"
      ]
    },
    {
      "cell_type": "code",
      "execution_count": 145,
      "metadata": {
        "id": "33Jf98AW24Td",
        "colab": {
          "base_uri": "https://localhost:8080/"
        },
        "outputId": "dad8ac36-5f90-43f6-fa74-003936091de8"
      },
      "outputs": [
        {
          "output_type": "stream",
          "name": "stdout",
          "text": [
            "0        10300\n",
            "1        38005\n",
            "2        15500\n",
            "3        34999\n",
            "4        31000\n",
            "         ...  \n",
            "3516    175000\n",
            "3517     25900\n",
            "3518     53900\n",
            "3519     62999\n",
            "3520     40000\n",
            "Name: price, Length: 3521, dtype: int64\n",
            "The USA Clean Data File has been saved.\n"
          ]
        }
      ],
      "source": [
        "#Import Dataset with required fields\n",
        "usa = pd.read_csv(\"/content/used_cars_USA.csv\")\n",
        "usa = usa[['brand', 'model', 'model_year', 'transmission', 'milage', 'fuel_type', 'engine', 'price' ]]\n",
        "\n",
        "#Dropping null values\n",
        "usa = usa.dropna()\n",
        "#usa = usa.sort_values('brand').reset_index(drop = True)\n",
        "\n",
        "# Tidying the data within the columns\n",
        "usa['engine'] = usa['engine'].str.replace('Liter', 'L')\n",
        "usa['engine_size'] = usa['engine'].str.extract(r'(\\d+\\.\\d+L)')\n",
        "usa['engine_size'] = usa['engine_size'].str.replace('L', '')\n",
        "\n",
        "usa['milage'] =usa['milage'].str.replace('mi', '').str.replace(',', '').str.replace('.', '').str.strip()\n",
        "\n",
        "usa['price'] = usa['price'].str.replace('$', '')\n",
        "\n",
        "usa['transmission'] = usa['transmission'].str.replace(r'4-Speed A/T|Variable|Transmission Overdrive Switch|A/T|9-Speed A/T|6-Speed A/T|10-Speed Automatic|8-Speed A/T|Automatic|10-Speed A/T|9-Speed Automatic|5-Speed A/T|7-Speed A/T|Automatic, 8-Spd|8-Speed Automatic|1-Speed Automatic|Automatic, 8-Spd M STEPTRONIC w/Drivelogic, Sport & Manual Modes|Automatic, 8-Spd Sport w/Sport & Manual Modes|8-SPEED A/T|Automatic CVT|6-Speed Automatic|10-Speed Automatic with Overdrive|4-Speed Automatic|6-Speed Electronically Controlled Automatic with O|5-Speed Automatic|7-Speed DCT Automatic|CVT Transmission|7-Speed Automatic|8-SPEED AT|Automatic, 10-Spd|Automatic, 9-Spd 9G-Tronic|CVT-F','Automatic',regex=True)\n",
        "usa['transmission'] = usa['transmission'].str.replace(r'6-Speed M/T|5-Speed M/T|M/T|6-Speed Manual|7-Speed M/T|8-Speed Manual|Manual|7-Speed Manual|Manual, 6-Spd|6 Speed Mt', 'Manual', regex = True)\n",
        "usa['transmission'] = usa['transmission'].str.replace(r'6 Speed At/Mt|Automatic, 8-Spd PDK Dual-Clutch|Automatic, 8-Spd Dual-Clutch|Auto, 6-Spd w/CmdShft|6-Speed Automatic with Auto-Shift|Automatic, 7-Spd S tronic Dual-Clutch|7-Speed Automatic with Auto-Shift|8-Speed Automatic with Auto-Shift|Transmission w/Dual Shift Mode|9-Speed Automatic with Auto-Shift', 'Semi-Auto', regex = True)\n",
        "usa2 = usa.loc[usa['transmission'].isin(['Automatic', 'Manual', 'Semi-Auto'])]\n",
        "\n",
        "# Standardizing the format of the dataset\n",
        "usa2 = usa2[~usa2['engine_size'].isna()]\n",
        "usa2 = usa2.drop('engine', axis = 1)\n",
        "usa2 = usa2.reset_index(drop=True)\n",
        "usa2 = usa2.rename(columns = {'model_year': 'year', 'milage': 'mileage','fuel_type':'fuelType'})\n",
        "usa2['country'] = 'USA'\n",
        "usa2['mpg'] = 'NA'\n",
        "usa2['tax'] = 'NA'\n",
        "usa2 = usa2[['brand', 'model', 'year', 'transmission', 'mileage', 'fuelType', 'engine_size', 'tax', 'mpg', 'country', 'price']]\n",
        "\n",
        "#satndardizing the data type\n",
        "usa2[\"price\"] = usa2[\"price\"].str.replace(\",\", \"\").str.strip()\n",
        "usa2['price'] = usa2['price'].astype(int)\n",
        "print(usa2[\"price\"])\n",
        "# standardizeing the name of brand to match UK's name\n",
        "usa2['brand'] = usa2['brand'].replace('Mercedes-Benz', 'Merc')\n",
        "\n",
        "# Saving dataframe as csv to local drive\n",
        "#usa2.to_csv('clean_USA.csv', index=False)\n",
        "print(\"The USA Clean Data File has been saved.\")\n",
        "USA_cars = usa2"
      ]
    },
    {
      "cell_type": "markdown",
      "metadata": {
        "id": "GyGrnZ5lsRxs"
      },
      "source": [
        "<font face=\"Helvetica\" size=3> **Cleaning the Focus Dataset** <font>"
      ]
    },
    {
      "cell_type": "code",
      "execution_count": 146,
      "metadata": {
        "colab": {
          "base_uri": "https://localhost:8080/"
        },
        "id": "isDQ64k3sRxs",
        "outputId": "906c70bd-7e7b-467b-8805-683ea233f247"
      },
      "outputs": [
        {
          "output_type": "stream",
          "name": "stdout",
          "text": [
            "File has been saved to clean_focus.csv\n"
          ]
        },
        {
          "output_type": "stream",
          "name": "stderr",
          "text": [
            "<ipython-input-146-9a970e5f56ee>:22: FutureWarning: A value is trying to be set on a copy of a DataFrame or Series through chained assignment using an inplace method.\n",
            "The behavior will change in pandas 3.0. This inplace method will never work because the intermediate object on which we are setting values always behaves as a copy.\n",
            "\n",
            "For example, when doing 'df[col].method(value, inplace=True)', try using 'df.method({col: value}, inplace=True)' or df[col] = df[col].method(value) instead, to perform the operation inplace on the original object.\n",
            "\n",
            "\n",
            "  df_focus['year'].fillna(0, inplace=True)\n",
            "<ipython-input-146-9a970e5f56ee>:63: FutureWarning: A value is trying to be set on a copy of a DataFrame or Series through chained assignment using an inplace method.\n",
            "The behavior will change in pandas 3.0. This inplace method will never work because the intermediate object on which we are setting values always behaves as a copy.\n",
            "\n",
            "For example, when doing 'df[col].method(value, inplace=True)', try using 'df.method({col: value}, inplace=True)' or df[col] = df[col].method(value) instead, to perform the operation inplace on the original object.\n",
            "\n",
            "\n",
            "  df_focus['mpg'].fillna(mpg_means,inplace=True)\n",
            "<ipython-input-146-9a970e5f56ee>:75: FutureWarning: A value is trying to be set on a copy of a DataFrame or Series through chained assignment using an inplace method.\n",
            "The behavior will change in pandas 3.0. This inplace method will never work because the intermediate object on which we are setting values always behaves as a copy.\n",
            "\n",
            "For example, when doing 'df[col].method(value, inplace=True)', try using 'df.method({col: value}, inplace=True)' or df[col] = df[col].method(value) instead, to perform the operation inplace on the original object.\n",
            "\n",
            "\n",
            "  df_focus['engine size'].fillna(0,inplace = True)\n",
            "<ipython-input-146-9a970e5f56ee>:76: FutureWarning: A value is trying to be set on a copy of a DataFrame or Series through chained assignment using an inplace method.\n",
            "The behavior will change in pandas 3.0. This inplace method will never work because the intermediate object on which we are setting values always behaves as a copy.\n",
            "\n",
            "For example, when doing 'df[col].method(value, inplace=True)', try using 'df.method({col: value}, inplace=True)' or df[col] = df[col].method(value) instead, to perform the operation inplace on the original object.\n",
            "\n",
            "\n",
            "  df_focus['engine size2'].fillna(0,inplace = True)\n"
          ]
        }
      ],
      "source": [
        "#read the data\n",
        "df_focus = pd.read_csv(\"/content/unclean focus.csv\")\n",
        "# Drop complete duplicates\n",
        "df_focus.drop_duplicates(inplace=True)\n",
        "\n",
        "# Drop rows where all values are NaN\n",
        "df_focus.dropna(how='all',inplace=True)\n",
        "\n",
        "# Cleaning the price column\n",
        "# Remove the pound sign and any comma\n",
        "df_focus['price_numeric'] = df_focus['price'].str.replace('£', '').str.replace(',','').str.strip()\n",
        "\n",
        "# Drop the rows where price values are missing\n",
        "df_focus = df_focus.dropna(subset=['price_numeric'])\n",
        "\n",
        "# Convert the price value to int64\n",
        "df_focus['price_numeric'] = pd.to_numeric(df_focus['price_numeric'],errors='coerce').astype('int64')\n",
        "df_focus['price_cleaned'] = df_focus['price_numeric']\n",
        "\n",
        "# Cleaning the year column\n",
        "# Fill NaN with 0\n",
        "df_focus['year'].fillna(0, inplace=True)\n",
        "\n",
        "# Convert to numeric first, handling any errors by converting invalid entries to NaN\n",
        "df_focus['year_numeric'] = pd.to_numeric(df_focus['year'], errors='coerce')\n",
        "\n",
        "# Now convert to int64, filling NaN with 0 (in case there are still invalid entries)\n",
        "df_focus['year_cleaned'] = df_focus['year_numeric'].fillna(0).astype('int64')\n",
        "\n",
        "# Cleaning the fuel type columns\n",
        "df_focus['fuel type'].astype('str').str.capitalize()\n",
        "df_focus['fuel type2'].astype('str').str.capitalize()\n",
        "\n",
        "# Combine the two columns together\n",
        "df_focus.loc[~df_focus['fuel type'].isin(['Petrol', 'Diesel']), 'fuel type'] = df_focus['fuel type2']\n",
        "df_focus = df_focus.rename(columns= {'fuel type':'fuel_type_cleaned'})\n",
        "\n",
        "# Cleaning mileage and mpg data\n",
        "df_focus= df_focus.rename(columns={\"mileage2\": \"mpg\"})\n",
        "\n",
        "# Remove commas from string values\n",
        "df_focus['mileage'] = df_focus['mileage'].str.replace(',', '').str.strip()\n",
        "df_focus['mpg'] = df_focus['mpg'].str.replace(',', '').str.strip()\n",
        "\n",
        "# Convert str values in mpg to numeric values\n",
        "df_focus['mpg'] = pd.to_numeric(df_focus['mpg'],errors='coerce').astype('float64')\n",
        "\n",
        "# Fill NaN in mileage column wtth mpg values\n",
        "df_focus['mileage'] = df_focus['mileage'].fillna(df_focus['mpg'])\n",
        "\n",
        "# Convert str values in mileage column to numeric values\n",
        "df_focus['mileage'] = pd.to_numeric(df_focus['mileage'],errors='coerce')\n",
        "\n",
        "# Replace the null value in mileage with the average\n",
        "df_focus['mileage'] = df_focus['mileage'].fillna(df_focus['mileage'].mean())\n",
        "# Convert datatypes\n",
        "df_focus['mileage'] = df_focus['mileage'].astype('int64')\n",
        "\n",
        "# Fill the missing mpg values with the average mpg\n",
        "mpg_means = np.mean(df_focus.loc[df_focus['mpg'] < 100, 'mpg'])\n",
        "\n",
        "df_focus.loc[df_focus['mpg']>=100,'mpg'] = mpg_means\n",
        "df_focus['mpg'].fillna(mpg_means,inplace=True)\n",
        "df_focus['mpg'] = df_focus['mpg'].round(1)\n",
        "\n",
        "# Cleaning engine size columns\n",
        "# Convert the cleaned 'engine size' column to numeric values\n",
        "df_focus['engine size'] = pd.to_numeric(df_focus['engine size'], errors='coerce')\n",
        "df_focus['engine size2']= pd.to_numeric(df_focus['engine size2'],errors='coerce')\n",
        "\n",
        " #By exploring the missing values of engine size and engine size2\n",
        " #it seems highly likely that the engine size data was split into two columns: engine size,engine size2\n",
        "\n",
        "# Fill NaN values with 0\n",
        "df_focus['engine size'].fillna(0,inplace = True)\n",
        "df_focus['engine size2'].fillna(0,inplace = True)\n",
        "\n",
        "# Convert unit in cc into liter\n",
        "df_focus.loc[df_focus['engine size'] > 100 ,'engine size'] = df_focus['engine size']/1000\n",
        "df_focus.loc[df_focus['engine size2'] > 100 ,'engine size2'] = df_focus['engine size2']/1000\n",
        "\n",
        "# Create a new column where engine size is not 0, otherwise use the values in the column of engine size2\n",
        "df_focus['engine_size_cleaned'] = np.where(df_focus['engine size'] !=0, df_focus['engine size'], df_focus['engine size2'])\n",
        "df_focus['engine_size_cleaned']= df_focus['engine_size_cleaned'].round(1)\n",
        "\n",
        "# Drop unwanted columns and rename the remaining columns\n",
        "df_focus = df_focus.drop(columns=['engine size','engine size2','fuel type2','reference','price','price_numeric','year','year_numeric'],axis=1)\n",
        "df_focus = df_focus.rename(columns={'fuel_type_cleaned':'fuel_type','price_cleaned':'price','year_cleaned':'year','engine_size_cleaned':'engine_size'})\n",
        "\n",
        "# Insert relevant columns：brand, tax, country\n",
        "df_focus['brand']= 'Ford'\n",
        "df_focus['tax'] = np.nan\n",
        "df_focus['country'] = 'UK'\n",
        "\n",
        "# Rearrange the order of columns\n",
        "new_order = ['brand','model','year','transmission','mileage','fuel_type','engine_size','tax','mpg','country','price']\n",
        "df_focus = df_focus[new_order]\n",
        "df_focus = df_focus.rename(columns={'fuel_type' : 'fuelType'})\n",
        "# assign path and file name\n",
        "folder_path = ''\n",
        "file_name = 'clean_focus.csv'\n",
        "file_path = folder_path + file_name\n",
        "\n",
        "# save dataframe as csv\n",
        "df_focus.to_csv(file_path, index=False)\n",
        "print(f'File has been saved to {file_path}')"
      ]
    },
    {
      "cell_type": "markdown",
      "metadata": {
        "id": "5CJqGo4YsRxs"
      },
      "source": [
        "<font face=\"Helvetica\" size=3> **Cleaning the C-Class Dataset** <font>"
      ]
    },
    {
      "cell_type": "code",
      "source": [
        "# CSV file manually uploaded to Google Colab\n",
        "import pandas as pd\n",
        "import numpy as np\n",
        "import seaborn as sns\n",
        "import matplotlib as plt\n",
        "\n",
        "unclean_cclass = pd.read_csv('/content/unclean cclass.csv')\n",
        "\n",
        "# Dropping all the empty rows\n",
        "unclean_cclass_v1 = unclean_cclass.dropna(how='all')\n",
        "\n",
        "# Looking at the data we understand that mileage2 is mpg, therefore changing its name\n",
        "\n",
        "unclean_cclass_v2 = unclean_cclass_v1.rename(columns={\"mileage2\": \"mpg\"})\n",
        "\n",
        "# Removing the ',' from mpg values as it creates error while converting to float\n",
        "\n",
        "unclean_cclass_v2['mpg'] = unclean_cclass_v2['mpg'].str.replace(',', '')\n",
        "\n",
        "# Converting 'mpg' column to float from object\n",
        "\n",
        "unclean_cclass_v2['mpg'] = pd.to_numeric(unclean_cclass_v2['mpg'], errors='coerce').astype(float)\n",
        "\n",
        "# Removing commas from the str values\n",
        "unclean_cclass_v2['mileage'] = unclean_cclass_v2['mileage'].str.replace(',', '')\n",
        "\n",
        "# As our theory was correct. Replacing the null vales of mileage with the mpg column\n",
        "unclean_cclass_v2['mileage'] = unclean_cclass_v2['mileage'].fillna(unclean_cclass_v2['mpg'])\n",
        "\n",
        "# Converting all the values in the column to float so that all become the same type\n",
        "unclean_cclass_v2['mileage'] = pd.to_numeric(unclean_cclass_v2['mileage'], errors='coerce').astype(float)\n",
        "\n",
        "# Replacing the remaining null values with the mean value\n",
        "unclean_cclass_v2['mileage'] = unclean_cclass_v2['mileage'].fillna(unclean_cclass_v2['mileage'].mean())\n",
        "\n",
        "# Converting the column into required format\n",
        "unclean_cclass_v2['mileage'] = unclean_cclass_v2['mileage'].astype(int)\n",
        "\n",
        "# Dropping the null values in Year\n",
        "unclean_cclass_v3 = unclean_cclass_v2.dropna(subset=['year'])\n",
        "\n",
        "# Converting the year into required format\n",
        "unclean_cclass_v3['year'] = unclean_cclass_v3['year'].astype(int)\n",
        "\n",
        "unclean_cclass_v3[~unclean_cclass_v3['fuel type2'].isin(['Petrol','Diesel','Hybrid'])]\n",
        "\n",
        "# Some fuel type values were populated in fuel type and some in fuel type2. Combining both the values\n",
        "\n",
        "unclean_cclass_v3['fuel type2'] = unclean_cclass_v3['fuel type2'].fillna(unclean_cclass_v3['fuel type'])\n",
        "\n",
        "# Dropping one of the fuel type columns\n",
        "unclean_cclass_v4 = unclean_cclass_v3.drop('fuel type', axis=1)\n",
        "\n",
        "unclean_cclass_v4 = unclean_cclass_v4.rename(columns={\"fuel type2\": \"fuelType\"})\n",
        "\n",
        "unclean_cclass_v4['engine size2'] = pd.to_numeric(unclean_cclass_v4['engine size2'], errors='coerce').astype(float)\n",
        "\n",
        "unclean_cclass_v4['engine size'] = pd.to_numeric(unclean_cclass_v4['engine size'], errors='coerce').astype(float)\n",
        "\n",
        "unclean_cclass_v4['engine size2'] = unclean_cclass_v4['engine size2'].fillna(unclean_cclass_v3['engine size'])\n",
        "\n",
        "# Dropping one of the engine size columns\n",
        "unclean_cclass_v4 = unclean_cclass_v4.drop('engine size', axis=1)\n",
        "\n",
        "unclean_cclass_v4 = unclean_cclass_v4.rename(columns={\"engine size2\": \"engine_size\"})\n",
        "\n",
        "unclean_cclass_v4 = unclean_cclass_v4.drop('reference', axis=1)\n",
        "\n",
        "unclean_cclass_v4['brand'] = 'Mercedes'\n",
        "unclean_cclass_v4['country'] = 'UK'\n",
        "\n",
        "# fill Na in mpg by average value\n",
        "unclean_cclass_v4[\"mpg\"] = unclean_cclass_v4[\"mpg\"].fillna(unclean_cclass_v4.mpg.mean())\n",
        "# add tax column, and value it as Nan\n",
        "unclean_cclass_v4[\"tax\"] = np.nan\n",
        "\n",
        "sequence = [\"brand\", \"model\", \"year\", \"transmission\", \"mileage\", \"fuelType\", \"engine_size\", \"tax\", \"mpg\", \"country\", \"price\"]\n",
        "unclean_cclass_v4 = unclean_cclass_v4[sequence]\n",
        "\n",
        "# remove the currency sign\n",
        "unclean_cclass_v4['price'] = unclean_cclass_v4['price'].str.replace('£', '', regex=False)\n",
        "# remove commas and stripping any spaces\n",
        "unclean_cclass_v4['price'] = unclean_cclass_v4['price'].str.replace(',', '').str.strip()\n",
        "# Convert the column to numeric type\n",
        "unclean_cclass_v4['price'] = unclean_cclass_v4['price'].astype(int)\n",
        "\n",
        "# Convert the column to numeric type\n",
        "unclean_cclass_v4['engine_size'] = unclean_cclass_v4['engine_size'].str.replace('£', '', regex=False)\n",
        "unclean_cclass_v4['engine_size'] = unclean_cclass_v4['engine_size'].str.replace('CC', '', regex=False)\n",
        "unclean_cclass_v4['engine_size'] = unclean_cclass_v4['engine_size'].str.replace(',', '').str.strip()\n",
        "unclean_cclass_v4['engine_size'] = unclean_cclass_v4['engine_size'].astype(float)\n",
        "\n",
        "unclean_cclass_v4[\"brand\"] = unclean_cclass_v4[\"brand\"].replace(\"Mercedes\", \"Merc\")\n",
        "\n",
        "unclean_cclass_v4.to_csv('clean_cclass.csv', index=False)"
      ],
      "metadata": {
        "colab": {
          "base_uri": "https://localhost:8080/"
        },
        "id": "IeidM0TPzI2N",
        "outputId": "81c5f606-a312-4d64-a1e3-4fdd3bde551c"
      },
      "execution_count": 147,
      "outputs": [
        {
          "output_type": "stream",
          "name": "stderr",
          "text": [
            "<ipython-input-147-eb4c652c6101>:43: SettingWithCopyWarning: \n",
            "A value is trying to be set on a copy of a slice from a DataFrame.\n",
            "Try using .loc[row_indexer,col_indexer] = value instead\n",
            "\n",
            "See the caveats in the documentation: https://pandas.pydata.org/pandas-docs/stable/user_guide/indexing.html#returning-a-view-versus-a-copy\n",
            "  unclean_cclass_v3['year'] = unclean_cclass_v3['year'].astype(int)\n",
            "<ipython-input-147-eb4c652c6101>:49: SettingWithCopyWarning: \n",
            "A value is trying to be set on a copy of a slice from a DataFrame.\n",
            "Try using .loc[row_indexer,col_indexer] = value instead\n",
            "\n",
            "See the caveats in the documentation: https://pandas.pydata.org/pandas-docs/stable/user_guide/indexing.html#returning-a-view-versus-a-copy\n",
            "  unclean_cclass_v3['fuel type2'] = unclean_cclass_v3['fuel type2'].fillna(unclean_cclass_v3['fuel type'])\n"
          ]
        }
      ]
    },
    {
      "cell_type": "markdown",
      "metadata": {
        "id": "K7l79GSxQHAq"
      },
      "source": [
        "<font face=\"Helvetica\" size=3> **Cleaning the Audi Dataset** <font>"
      ]
    },
    {
      "cell_type": "code",
      "execution_count": 148,
      "metadata": {
        "colab": {
          "base_uri": "https://localhost:8080/"
        },
        "id": "mNnojwmFQHAr",
        "outputId": "a63fbe0c-8cf4-4af9-e866-8c563fa68d2d"
      },
      "outputs": [
        {
          "output_type": "stream",
          "name": "stdout",
          "text": [
            "<class 'pandas.core.frame.DataFrame'>\n",
            "RangeIndex: 10668 entries, 0 to 10667\n",
            "Data columns (total 11 columns):\n",
            " #   Column        Non-Null Count  Dtype  \n",
            "---  ------        --------------  -----  \n",
            " 0   brand         10668 non-null  object \n",
            " 1   model         10668 non-null  object \n",
            " 2   year          10668 non-null  int64  \n",
            " 3   transmission  10668 non-null  object \n",
            " 4   mileage       10668 non-null  int64  \n",
            " 5   fuelType      10668 non-null  object \n",
            " 6   engine_size   10668 non-null  float64\n",
            " 7   tax           10668 non-null  int64  \n",
            " 8   mpg           10668 non-null  float64\n",
            " 9   country       10668 non-null  object \n",
            " 10  price         10668 non-null  int64  \n",
            "dtypes: float64(2), int64(4), object(5)\n",
            "memory usage: 916.9+ KB\n",
            "File has been saved to C:\\Users\\Rick\\OneDrive\\Desktop\\BA815_project\\clean_data\\clean_Audi.csv\n"
          ]
        }
      ],
      "source": [
        "df_audi = pd.read_csv(\"audi.csv\")\n",
        "#If want to rename column, use this one\n",
        "df_audi.rename(columns={'engineSize': 'engine_size'}, inplace=True)\n",
        "# add a new column and give the value\n",
        "df_audi[\"brand\"] = \"Audi\"\n",
        "df_audi[\"country\"] = \"UK\"\n",
        "# reset sequence\n",
        "sequence = [\"brand\", \"model\", \"year\", \"transmission\", \"mileage\", \"fuelType\", \"engine_size\", \"tax\", \"mpg\", \"country\", \"price\"]\n",
        "df_audi = df_audi[sequence]\n",
        "df_audi.info()\n",
        "df_audi.head()\n",
        "\n",
        "# assign path and file name\n",
        "folder_path = 'C:\\\\Users\\\\Rick\\\\OneDrive\\\\Desktop\\\\BA815_project\\\\clean_data\\\\'\n",
        "file_name = 'clean_Audi.csv'\n",
        "file_path = folder_path + file_name\n",
        "\n",
        "# save dataframe as csv\n",
        "df_audi.to_csv(file_path, index=False)\n",
        "print(f'File has been saved to {file_path}')"
      ]
    },
    {
      "cell_type": "markdown",
      "metadata": {
        "id": "5H6FzehkQHAr"
      },
      "source": [
        "<font face=\"Helvetica\" size=3> **Cleaning the BMW Dataset** <font>"
      ]
    },
    {
      "cell_type": "code",
      "execution_count": 149,
      "metadata": {
        "colab": {
          "base_uri": "https://localhost:8080/"
        },
        "id": "sA07rQgtQHAr",
        "outputId": "5b709603-62f2-4805-c0d2-826dde1f3ec7"
      },
      "outputs": [
        {
          "output_type": "stream",
          "name": "stdout",
          "text": [
            "<class 'pandas.core.frame.DataFrame'>\n",
            "RangeIndex: 10781 entries, 0 to 10780\n",
            "Data columns (total 11 columns):\n",
            " #   Column        Non-Null Count  Dtype  \n",
            "---  ------        --------------  -----  \n",
            " 0   brand         10781 non-null  object \n",
            " 1   model         10781 non-null  object \n",
            " 2   year          10781 non-null  int64  \n",
            " 3   transmission  10781 non-null  object \n",
            " 4   mileage       10781 non-null  int64  \n",
            " 5   fuelType      10781 non-null  object \n",
            " 6   engine_size   10781 non-null  float64\n",
            " 7   tax           10781 non-null  int64  \n",
            " 8   mpg           10781 non-null  float64\n",
            " 9   country       10781 non-null  object \n",
            " 10  price         10781 non-null  int64  \n",
            "dtypes: float64(2), int64(4), object(5)\n",
            "memory usage: 926.6+ KB\n",
            "File has been saved to C:\\Users\\Rick\\OneDrive\\Desktop\\BA815_project\\clean_data\\clean_bmw.csv\n"
          ]
        }
      ],
      "source": [
        "df_bmw = pd.read_csv(\"bmw.csv\")\n",
        "#If want to rename column, use this one\n",
        "df_bmw.rename(columns={'engineSize': 'engine_size'}, inplace=True)\n",
        "# add a new column and give the value\n",
        "df_bmw[\"brand\"] = \"BMW\"\n",
        "df_bmw[\"country\"] = \"UK\"\n",
        "# reset sequence\n",
        "sequence = [\"brand\", \"model\", \"year\", \"transmission\", \"mileage\", \"fuelType\", \"engine_size\", \"tax\", \"mpg\", \"country\", \"price\"]\n",
        "df_bmw = df_bmw[sequence]\n",
        "df_bmw.info()\n",
        "df_bmw.head()\n",
        "\n",
        "# assign path and file name\n",
        "folder_path = 'C:\\\\Users\\\\Rick\\\\OneDrive\\\\Desktop\\\\BA815_project\\\\clean_data\\\\'\n",
        "file_name = 'clean_bmw.csv'\n",
        "file_path = folder_path + file_name\n",
        "\n",
        "# save dataframe as csv\n",
        "df_bmw.to_csv(file_path, index=False)\n",
        "print(f'File has been saved to {file_path}')"
      ]
    },
    {
      "cell_type": "markdown",
      "metadata": {
        "id": "UDQ7eZ-4QHAr"
      },
      "source": [
        "<font face=\"Helvetica\" size=3> **Cleaning the Ford Dataset** <font>"
      ]
    },
    {
      "cell_type": "code",
      "execution_count": 150,
      "metadata": {
        "colab": {
          "base_uri": "https://localhost:8080/"
        },
        "id": "K0J0Xto8QHAr",
        "outputId": "92dec3eb-301a-41e3-9991-4f448ba79e85"
      },
      "outputs": [
        {
          "output_type": "stream",
          "name": "stdout",
          "text": [
            "<class 'pandas.core.frame.DataFrame'>\n",
            "RangeIndex: 17965 entries, 0 to 17964\n",
            "Data columns (total 11 columns):\n",
            " #   Column        Non-Null Count  Dtype  \n",
            "---  ------        --------------  -----  \n",
            " 0   brand         17965 non-null  object \n",
            " 1   model         17965 non-null  object \n",
            " 2   year          17965 non-null  int64  \n",
            " 3   transmission  17965 non-null  object \n",
            " 4   mileage       17965 non-null  int64  \n",
            " 5   fuelType      17965 non-null  object \n",
            " 6   engine_size   17965 non-null  float64\n",
            " 7   tax           17965 non-null  int64  \n",
            " 8   mpg           17965 non-null  float64\n",
            " 9   country       17965 non-null  object \n",
            " 10  price         17965 non-null  int64  \n",
            "dtypes: float64(2), int64(4), object(5)\n",
            "memory usage: 1.5+ MB\n",
            "File has been saved to C:\\Users\\Rick\\OneDrive\\Desktop\\BA815_project\\clean_data\\clean_ford.csv\n"
          ]
        }
      ],
      "source": [
        "df_ford = pd.read_csv(\"ford.csv\")\n",
        "#If want to rename column, use this one\n",
        "df_ford.rename(columns={'engineSize': 'engine_size'}, inplace=True)\n",
        "# add a new column and give the value\n",
        "df_ford[\"brand\"] = \"Ford\"\n",
        "df_ford[\"country\"] = \"UK\"\n",
        "# reset sequence\n",
        "sequence = [\"brand\", \"model\", \"year\", \"transmission\", \"mileage\", \"fuelType\", \"engine_size\", \"tax\", \"mpg\", \"country\", \"price\"]\n",
        "df_ford = df_ford[sequence]\n",
        "df_ford.info()\n",
        "df_ford.head()\n",
        "\n",
        "# assign path and file name\n",
        "folder_path = 'C:\\\\Users\\\\Rick\\\\OneDrive\\\\Desktop\\\\BA815_project\\\\clean_data\\\\'\n",
        "file_name = 'clean_ford.csv'\n",
        "file_path = folder_path + file_name\n",
        "\n",
        "# save dataframe as csv\n",
        "df_ford.to_csv(file_path, index=False)\n",
        "print(f'File has been saved to {file_path}')"
      ]
    },
    {
      "cell_type": "markdown",
      "metadata": {
        "id": "ZdPS__m4QHAs"
      },
      "source": [
        "<font face=\"Helvetica\" size=3> **Cleaning the Hyundai Dataset** <font>"
      ]
    },
    {
      "cell_type": "code",
      "execution_count": 151,
      "metadata": {
        "colab": {
          "base_uri": "https://localhost:8080/"
        },
        "id": "rDjHE8KVQHAs",
        "outputId": "04d52dbe-4cd7-448e-a2e9-cd92861fe7f4"
      },
      "outputs": [
        {
          "output_type": "stream",
          "name": "stdout",
          "text": [
            "<class 'pandas.core.frame.DataFrame'>\n",
            "RangeIndex: 4860 entries, 0 to 4859\n",
            "Data columns (total 11 columns):\n",
            " #   Column        Non-Null Count  Dtype  \n",
            "---  ------        --------------  -----  \n",
            " 0   brand         4860 non-null   object \n",
            " 1   model         4860 non-null   object \n",
            " 2   year          4860 non-null   int64  \n",
            " 3   transmission  4860 non-null   object \n",
            " 4   mileage       4860 non-null   int64  \n",
            " 5   fuelType      4860 non-null   object \n",
            " 6   engine_size   4860 non-null   float64\n",
            " 7   tax           4860 non-null   int64  \n",
            " 8   mpg           4860 non-null   float64\n",
            " 9   country       4860 non-null   object \n",
            " 10  price         4860 non-null   int64  \n",
            "dtypes: float64(2), int64(4), object(5)\n",
            "memory usage: 417.8+ KB\n",
            "File has been saved to C:\\Users\\Rick\\OneDrive\\Desktop\\BA815_project\\clean_data\\clean_hyundai.csv\n"
          ]
        }
      ],
      "source": [
        "df_hyundai = pd.read_csv(\"hyundi.csv\")\n",
        "#If want to rename column, use this one\n",
        "df_hyundai.rename(columns={'engineSize': 'engine_size'}, inplace=True)\n",
        "# add a new column and give the value\n",
        "df_hyundai.rename(columns={ 'tax(£)': 'tax'}, inplace=True)\n",
        "df_hyundai[\"brand\"] = \"Hyundai\"\n",
        "df_hyundai[\"country\"] = \"UK\"\n",
        "# reset sequence\n",
        "sequence = [\"brand\", \"model\", \"year\", \"transmission\", \"mileage\", \"fuelType\", \"engine_size\", \"tax\", \"mpg\", \"country\", \"price\"]\n",
        "df_hyundai = df_hyundai[sequence]\n",
        "df_hyundai.info()\n",
        "df_hyundai.head()\n",
        "\n",
        "# assign path and file name\n",
        "folder_path = 'C:\\\\Users\\\\Rick\\\\OneDrive\\\\Desktop\\\\BA815_project\\\\clean_data\\\\'\n",
        "file_name = 'clean_hyundai.csv'\n",
        "file_path = folder_path + file_name\n",
        "\n",
        "# save dataframe as csv\n",
        "df_hyundai.to_csv(file_path, index=False)\n",
        "print(f'File has been saved to {file_path}')"
      ]
    },
    {
      "cell_type": "markdown",
      "metadata": {
        "id": "t4vS28CWQHAs"
      },
      "source": [
        "<font face=\"Helvetica\" size=3> **Cleaning the Merc (Mercedes) Dataset** <font>"
      ]
    },
    {
      "cell_type": "code",
      "execution_count": 152,
      "metadata": {
        "colab": {
          "base_uri": "https://localhost:8080/"
        },
        "id": "CRHxroMeQHAs",
        "outputId": "57eda61f-ea47-459d-86b0-029c07628fd4"
      },
      "outputs": [
        {
          "output_type": "stream",
          "name": "stdout",
          "text": [
            "<class 'pandas.core.frame.DataFrame'>\n",
            "RangeIndex: 13119 entries, 0 to 13118\n",
            "Data columns (total 11 columns):\n",
            " #   Column        Non-Null Count  Dtype  \n",
            "---  ------        --------------  -----  \n",
            " 0   brand         13119 non-null  object \n",
            " 1   model         13119 non-null  object \n",
            " 2   year          13119 non-null  int64  \n",
            " 3   transmission  13119 non-null  object \n",
            " 4   mileage       13119 non-null  int64  \n",
            " 5   fuelType      13119 non-null  object \n",
            " 6   engine_size   13119 non-null  float64\n",
            " 7   tax           13119 non-null  int64  \n",
            " 8   mpg           13119 non-null  float64\n",
            " 9   country       13119 non-null  object \n",
            " 10  price         13119 non-null  int64  \n",
            "dtypes: float64(2), int64(4), object(5)\n",
            "memory usage: 1.1+ MB\n",
            "None\n",
            "  brand      model  year transmission  mileage fuelType  engine_size  tax  \\\n",
            "0  Merc        SLK  2005    Automatic    63000   Petrol          1.8  325   \n",
            "1  Merc    S Class  2017    Automatic    27000   Hybrid          2.1   20   \n",
            "2  Merc   SL CLASS  2016    Automatic     6200   Petrol          5.5  555   \n",
            "3  Merc    G Class  2016    Automatic    16000   Petrol          4.0  325   \n",
            "4  Merc    G Class  2016    Automatic     4000   Petrol          4.0  325   \n",
            "\n",
            "    mpg country  price  \n",
            "0  32.1      UK   5200  \n",
            "1  61.4      UK  34948  \n",
            "2  28.0      UK  49948  \n",
            "3  30.4      UK  61948  \n",
            "4  30.1      UK  73948  \n",
            "File has been saved to C:\\Users\\Rick\\OneDrive\\Desktop\\BA815_project\\clean_data\\clean_merc.csv\n"
          ]
        }
      ],
      "source": [
        "df_merc = pd.read_csv(\"merc.csv\")\n",
        "#If want to rename column, use this one\n",
        "df_merc.rename(columns={'engineSize': 'engine_size'}, inplace=True)\n",
        "# add a new column and give the value\n",
        "df_merc[\"brand\"] = \"Merc\"\n",
        "df_merc[\"country\"] = \"UK\"\n",
        "# reset sequence\n",
        "sequence = [\"brand\", \"model\", \"year\", \"transmission\", \"mileage\", \"fuelType\", \"engine_size\", \"tax\", \"mpg\", \"country\", \"price\"]\n",
        "df_merc = df_merc[sequence]\n",
        "print(df_merc.info())\n",
        "print(df_merc.head())\n",
        "\n",
        "# assign path and file name\n",
        "folder_path = 'C:\\\\Users\\\\Rick\\\\OneDrive\\\\Desktop\\\\BA815_project\\\\clean_data\\\\'\n",
        "file_name = 'clean_merc.csv'\n",
        "file_path = folder_path + file_name\n",
        "\n",
        "# save dataframe as csv\n",
        "df_merc.to_csv(file_path, index=False)\n",
        "print(f'File has been saved to {file_path}')"
      ]
    },
    {
      "cell_type": "markdown",
      "metadata": {
        "id": "hcoYtuUZQHAs"
      },
      "source": [
        "<font face=\"Helvetica\" size=3> **Cleaning the Skoda Dataset** <font>"
      ]
    },
    {
      "cell_type": "code",
      "execution_count": 153,
      "metadata": {
        "colab": {
          "base_uri": "https://localhost:8080/"
        },
        "id": "X8wHkuVGQHAs",
        "outputId": "0937c241-ba92-44d0-a896-0c25efe44c95"
      },
      "outputs": [
        {
          "output_type": "stream",
          "name": "stdout",
          "text": [
            "<class 'pandas.core.frame.DataFrame'>\n",
            "RangeIndex: 6267 entries, 0 to 6266\n",
            "Data columns (total 11 columns):\n",
            " #   Column        Non-Null Count  Dtype  \n",
            "---  ------        --------------  -----  \n",
            " 0   brand         6267 non-null   object \n",
            " 1   model         6267 non-null   object \n",
            " 2   year          6267 non-null   int64  \n",
            " 3   transmission  6267 non-null   object \n",
            " 4   mileage       6267 non-null   int64  \n",
            " 5   fuelType      6267 non-null   object \n",
            " 6   engine_size   6267 non-null   float64\n",
            " 7   tax           6267 non-null   int64  \n",
            " 8   mpg           6267 non-null   float64\n",
            " 9   country       6267 non-null   object \n",
            " 10  price         6267 non-null   int64  \n",
            "dtypes: float64(2), int64(4), object(5)\n",
            "memory usage: 538.7+ KB\n",
            "None\n",
            "   brand          model  year transmission  mileage fuelType  engine_size  \\\n",
            "0  Skoda        Octavia  2017       Manual    25250   Petrol          1.4   \n",
            "1  Skoda         Citigo  2018       Manual     1264   Petrol          1.0   \n",
            "2  Skoda        Octavia  2019    Automatic     6825   Diesel          2.0   \n",
            "3  Skoda   Yeti Outdoor  2015    Automatic    28431   Diesel          2.0   \n",
            "4  Skoda         Superb  2019       Manual    10912   Petrol          1.5   \n",
            "\n",
            "   tax   mpg country  price  \n",
            "0  150  54.3      UK  10550  \n",
            "1  145  67.3      UK   8200  \n",
            "2  145  67.3      UK  15650  \n",
            "3  165  51.4      UK  14000  \n",
            "4  150  40.9      UK  18350  \n",
            "File has been saved to C:\\Users\\Rick\\OneDrive\\Desktop\\BA815_project\\clean_data\\clean_skoda.csv\n"
          ]
        }
      ],
      "source": [
        "df_skoda = pd.read_csv(\"skoda.csv\")\n",
        "#If want to rename column, use this one\n",
        "df_skoda.rename(columns={'engineSize': 'engine_size'}, inplace=True)\n",
        "# add a new column and give the value\n",
        "df_skoda[\"brand\"] = \"Skoda\"\n",
        "df_skoda[\"country\"] = \"UK\"\n",
        "# reset sequence\n",
        "sequence = [\"brand\", \"model\", \"year\", \"transmission\", \"mileage\", \"fuelType\", \"engine_size\", \"tax\", \"mpg\", \"country\", \"price\"]\n",
        "df_skoda = df_skoda[sequence]\n",
        "print(df_skoda.info())\n",
        "print(df_skoda.head())\n",
        "\n",
        "# assign path and file name\n",
        "folder_path = 'C:\\\\Users\\\\Rick\\\\OneDrive\\\\Desktop\\\\BA815_project\\\\clean_data\\\\'\n",
        "file_name = 'clean_skoda.csv'\n",
        "file_path = folder_path + file_name\n",
        "\n",
        "# save dataframe as csv\n",
        "df_skoda.to_csv(file_path, index=False)\n",
        "print(f'File has been saved to {file_path}')"
      ]
    },
    {
      "cell_type": "markdown",
      "metadata": {
        "id": "P71BIsGtQHAt"
      },
      "source": [
        "<font face=\"Helvetica\" size=3> **Cleaning the Toyota Dataset** <font>"
      ]
    },
    {
      "cell_type": "code",
      "execution_count": 154,
      "metadata": {
        "colab": {
          "base_uri": "https://localhost:8080/"
        },
        "id": "Egec3l77QHAt",
        "outputId": "f7ede9e9-2246-4b15-868a-09d84ae6215b"
      },
      "outputs": [
        {
          "output_type": "stream",
          "name": "stdout",
          "text": [
            "<class 'pandas.core.frame.DataFrame'>\n",
            "RangeIndex: 6738 entries, 0 to 6737\n",
            "Data columns (total 11 columns):\n",
            " #   Column        Non-Null Count  Dtype  \n",
            "---  ------        --------------  -----  \n",
            " 0   brand         6738 non-null   object \n",
            " 1   model         6738 non-null   object \n",
            " 2   year          6738 non-null   int64  \n",
            " 3   transmission  6738 non-null   object \n",
            " 4   mileage       6738 non-null   int64  \n",
            " 5   fuelType      6738 non-null   object \n",
            " 6   engine_size   6738 non-null   float64\n",
            " 7   tax           6738 non-null   int64  \n",
            " 8   mpg           6738 non-null   float64\n",
            " 9   country       6738 non-null   object \n",
            " 10  price         6738 non-null   int64  \n",
            "dtypes: float64(2), int64(4), object(5)\n",
            "memory usage: 579.2+ KB\n",
            "None\n",
            "    brand  model  year transmission  mileage fuelType  engine_size  tax   mpg  \\\n",
            "0  Toyota   GT86  2016       Manual    24089   Petrol          2.0  265  36.2   \n",
            "1  Toyota   GT86  2017       Manual    18615   Petrol          2.0  145  36.2   \n",
            "2  Toyota   GT86  2015       Manual    27469   Petrol          2.0  265  36.2   \n",
            "3  Toyota   GT86  2017       Manual    14736   Petrol          2.0  150  36.2   \n",
            "4  Toyota   GT86  2017       Manual    36284   Petrol          2.0  145  36.2   \n",
            "\n",
            "  country  price  \n",
            "0      UK  16000  \n",
            "1      UK  15995  \n",
            "2      UK  13998  \n",
            "3      UK  18998  \n",
            "4      UK  17498  \n",
            "File has been saved to C:\\Users\\Rick\\OneDrive\\Desktop\\BA815_project\\clean_data\\clean_toyota.csv\n"
          ]
        }
      ],
      "source": [
        "df_toyota = pd.read_csv(\"toyota.csv\")\n",
        "#If want to rename column, use this one\n",
        "df_toyota.rename(columns={'engineSize': 'engine_size'}, inplace=True)\n",
        "# add a new column and give the value\n",
        "df_toyota[\"brand\"] = \"Toyota\"\n",
        "df_toyota[\"country\"] = \"UK\"\n",
        "# reset sequence\n",
        "sequence = [\"brand\", \"model\", \"year\", \"transmission\", \"mileage\", \"fuelType\", \"engine_size\", \"tax\", \"mpg\", \"country\", \"price\"]\n",
        "df_toyota = df_toyota[sequence]\n",
        "print(df_toyota.info())\n",
        "print(df_toyota.head())\n",
        "\n",
        "# assign path and file name\n",
        "folder_path = 'C:\\\\Users\\\\Rick\\\\OneDrive\\\\Desktop\\\\BA815_project\\\\clean_data\\\\'\n",
        "file_name = 'clean_toyota.csv'\n",
        "file_path = folder_path + file_name\n",
        "\n",
        "# save dataframe as csv\n",
        "df_toyota.to_csv(file_path, index=False)\n",
        "print(f'File has been saved to {file_path}')"
      ]
    },
    {
      "cell_type": "markdown",
      "metadata": {
        "id": "bFBI6PCEQHAt"
      },
      "source": [
        "<font face=\"Helvetica\" size=3> **Cleaning the Vauxhall Dataset** <font>"
      ]
    },
    {
      "cell_type": "code",
      "execution_count": 155,
      "metadata": {
        "colab": {
          "base_uri": "https://localhost:8080/"
        },
        "id": "E5ITSd5lQHAt",
        "outputId": "2b749f43-90a5-4ba0-fae7-d4aa27542951"
      },
      "outputs": [
        {
          "output_type": "stream",
          "name": "stdout",
          "text": [
            "<class 'pandas.core.frame.DataFrame'>\n",
            "RangeIndex: 13632 entries, 0 to 13631\n",
            "Data columns (total 11 columns):\n",
            " #   Column        Non-Null Count  Dtype  \n",
            "---  ------        --------------  -----  \n",
            " 0   brand         13632 non-null  object \n",
            " 1   model         13632 non-null  object \n",
            " 2   year          13632 non-null  int64  \n",
            " 3   transmission  13632 non-null  object \n",
            " 4   mileage       13632 non-null  int64  \n",
            " 5   fuelType      13632 non-null  object \n",
            " 6   engine_size   13632 non-null  float64\n",
            " 7   tax           13632 non-null  int64  \n",
            " 8   mpg           13632 non-null  float64\n",
            " 9   country       13632 non-null  object \n",
            " 10  price         13632 non-null  int64  \n",
            "dtypes: float64(2), int64(4), object(5)\n",
            "memory usage: 1.1+ MB\n",
            "None\n",
            "      brand   model  year transmission  mileage fuelType  engine_size  tax  \\\n",
            "0  Vauxhall   Corsa  2018       Manual     9876   Petrol          1.4  145   \n",
            "1  Vauxhall   Corsa  2019       Manual     2500   Petrol          1.4  145   \n",
            "2  Vauxhall   Corsa  2017    Automatic     9625   Petrol          1.4  145   \n",
            "3  Vauxhall   Corsa  2016       Manual    25796   Petrol          1.4   30   \n",
            "4  Vauxhall   Corsa  2019       Manual     3887   Petrol          1.4  145   \n",
            "\n",
            "    mpg country  price  \n",
            "0  55.4      UK   7885  \n",
            "1  54.3      UK  11995  \n",
            "2  47.9      UK   9777  \n",
            "3  55.4      UK   8500  \n",
            "4  43.5      UK  10000  \n",
            "File has been saved to C:\\Users\\Rick\\OneDrive\\Desktop\\BA815_project\\clean_data\\clean_vauxhall.csv\n"
          ]
        }
      ],
      "source": [
        "df_vauxhall = pd.read_csv(\"vauxhall.csv\")\n",
        "#If want to rename column, use this one\n",
        "df_vauxhall.rename(columns={'engineSize': 'engine_size'}, inplace=True)\n",
        "# add a new column and give the value\n",
        "df_vauxhall[\"brand\"] = \"Vauxhall\"\n",
        "df_vauxhall[\"country\"] = \"UK\"\n",
        "# reset sequence\n",
        "sequence = [\"brand\", \"model\", \"year\", \"transmission\", \"mileage\", \"fuelType\", \"engine_size\", \"tax\", \"mpg\", \"country\", \"price\"]\n",
        "df_vauxhall = df_vauxhall[sequence]\n",
        "print(df_vauxhall.info())\n",
        "print(df_vauxhall.head())\n",
        "\n",
        "# assign path and file name\n",
        "folder_path = 'C:\\\\Users\\\\Rick\\\\OneDrive\\\\Desktop\\\\BA815_project\\\\clean_data\\\\'\n",
        "file_name = 'clean_vauxhall.csv'\n",
        "file_path = folder_path + file_name\n",
        "\n",
        "# save dataframe as csv\n",
        "df_vauxhall.to_csv(file_path, index=False)\n",
        "print(f'File has been saved to {file_path}')"
      ]
    },
    {
      "cell_type": "markdown",
      "metadata": {
        "id": "w-mYqzUkQHAt"
      },
      "source": [
        "<font face=\"Helvetica\" size=3> **Cleaning the Volkswagen Dataset** <font>"
      ]
    },
    {
      "cell_type": "code",
      "execution_count": 156,
      "metadata": {
        "colab": {
          "base_uri": "https://localhost:8080/"
        },
        "id": "WI3pXJTkQHAt",
        "outputId": "83373393-a0b6-4f01-d991-0f9f73e0a3f9"
      },
      "outputs": [
        {
          "output_type": "stream",
          "name": "stdout",
          "text": [
            "<class 'pandas.core.frame.DataFrame'>\n",
            "RangeIndex: 15157 entries, 0 to 15156\n",
            "Data columns (total 11 columns):\n",
            " #   Column        Non-Null Count  Dtype  \n",
            "---  ------        --------------  -----  \n",
            " 0   brand         15157 non-null  object \n",
            " 1   model         15157 non-null  object \n",
            " 2   year          15157 non-null  int64  \n",
            " 3   transmission  15157 non-null  object \n",
            " 4   mileage       15157 non-null  int64  \n",
            " 5   fuelType      15157 non-null  object \n",
            " 6   engine_size   15157 non-null  float64\n",
            " 7   tax           15157 non-null  int64  \n",
            " 8   mpg           15157 non-null  float64\n",
            " 9   country       15157 non-null  object \n",
            " 10  price         15157 non-null  int64  \n",
            "dtypes: float64(2), int64(4), object(5)\n",
            "memory usage: 1.3+ MB\n",
            "None\n",
            "        brand   model  year transmission  mileage fuelType  engine_size  tax  \\\n",
            "0  Volkswagen   T-Roc  2019    Automatic    13904   Diesel          2.0  145   \n",
            "1  Volkswagen   T-Roc  2019    Automatic     4562   Diesel          2.0  145   \n",
            "2  Volkswagen   T-Roc  2019       Manual     7414   Diesel          2.0  145   \n",
            "3  Volkswagen   T-Roc  2019    Automatic     4825   Petrol          2.0  145   \n",
            "4  Volkswagen   T-Roc  2019    Semi-Auto     6500   Petrol          1.5  150   \n",
            "\n",
            "    mpg country  price  \n",
            "0  49.6      UK  25000  \n",
            "1  49.6      UK  26883  \n",
            "2  50.4      UK  20000  \n",
            "3  32.5      UK  33492  \n",
            "4  39.8      UK  22900  \n",
            "File has been saved to C:\\Users\\Rick\\OneDrive\\Desktop\\BA815_project\\clean_data\\clean_vw.csv\n"
          ]
        }
      ],
      "source": [
        "df_vw = pd.read_csv(\"vw.csv\")\n",
        "#If want to rename column, use this one\n",
        "df_vw.rename(columns={'engineSize': 'engine_size'}, inplace=True)\n",
        "# add a new column and give the value\n",
        "df_vw[\"brand\"] = \"Volkswagen\"\n",
        "df_vw[\"country\"] = \"UK\"\n",
        "# reset sequence\n",
        "sequence = [\"brand\", \"model\", \"year\", \"transmission\", \"mileage\", \"fuelType\", \"engine_size\", \"tax\", \"mpg\", \"country\", \"price\"]\n",
        "df_vw = df_vw[sequence]\n",
        "print(df_vw.info())\n",
        "print(df_vw.head())\n",
        "\n",
        "# assign path and file name\n",
        "folder_path = 'C:\\\\Users\\\\Rick\\\\OneDrive\\\\Desktop\\\\BA815_project\\\\clean_data\\\\'\n",
        "file_name = 'clean_vw.csv'\n",
        "file_path = folder_path + file_name\n",
        "\n",
        "# save dataframe as csv\n",
        "df_vw.to_csv(file_path, index=False)\n",
        "print(f'File has been saved to {file_path}')"
      ]
    },
    {
      "cell_type": "markdown",
      "metadata": {
        "id": "IBRz5lZQQHAu"
      },
      "source": [
        "<font face=\"Helvetica\" size=3> **Importing and Concatenating data from UK** <font>"
      ]
    },
    {
      "cell_type": "code",
      "execution_count": 157,
      "metadata": {
        "id": "9Ze_hK2DQHAu"
      },
      "outputs": [],
      "source": [
        "# import UK dataset\n",
        "audi = pd.read_csv(\"/content/clean_USA.csv\")\n",
        "bmw = pd.read_csv(\"/content/clean_bmw.csv\")\n",
        "ford = pd.read_csv(\"/content/clean_ford.csv\")\n",
        "hyundi = pd.read_csv(\"/content/clean_hyundi.csv\")\n",
        "merc = pd.read_csv(\"/content/clean_merc.csv\")\n",
        "skoda = pd.read_csv(\"/content/clean_skoda.csv\")\n",
        "toyota = pd.read_csv(\"/content/clean_toyota.csv\")\n",
        "vauxhall = pd.read_csv(\"/content/clean_vauxhall.csv\")\n",
        "vw = pd.read_csv(\"/content/clean_vw.csv\")\n"
      ]
    },
    {
      "cell_type": "code",
      "execution_count": 158,
      "metadata": {
        "id": "Q7I3BOaxQHAu"
      },
      "outputs": [],
      "source": [
        "UK_cars = pd.concat([audi, bmw, ford, hyundi, merc, skoda, toyota, vauxhall, vw], ignore_index=True)"
      ]
    },
    {
      "cell_type": "markdown",
      "metadata": {
        "id": "PHE7hoimQHAu"
      },
      "source": [
        "<font face=\"Helvetica\" size=3 color=2e062f> **Imputed missing \"tax\" values using the average for the same brand and model in UK data** <font>\n",
        "---"
      ]
    },
    {
      "cell_type": "code",
      "execution_count": 159,
      "metadata": {
        "id": "qopJkhB4QHAu"
      },
      "outputs": [],
      "source": [
        "# import cclass dataset first\n",
        "cclass = pd.read_csv(\"/content/clean_cclass.csv\")\n",
        "# import focus dataset first\n",
        "focus = pd.read_csv(\"/content/clean_focus.csv\")"
      ]
    },
    {
      "cell_type": "markdown",
      "metadata": {
        "id": "QSQ4CaGhQHAv"
      },
      "source": [
        "<font face=\"Helvetica\" size=2 color=2e062f> **C-Class** <font>\n",
        "---"
      ]
    },
    {
      "cell_type": "code",
      "execution_count": 160,
      "metadata": {
        "colab": {
          "base_uri": "https://localhost:8080/"
        },
        "id": "3QqygIQ1QHAv",
        "outputId": "ffe1643d-5612-4c45-dfa0-e34e67641c06"
      },
      "outputs": [
        {
          "output_type": "stream",
          "name": "stdout",
          "text": [
            "     brand     model         tax\n",
            "1250  Merc   C Class  118.405391\n",
            "118.40539097945023\n",
            "brand              0\n",
            "model              0\n",
            "year               0\n",
            "transmission       0\n",
            "mileage            0\n",
            "fuelType           0\n",
            "engine_size     3806\n",
            "tax                0\n",
            "mpg                0\n",
            "country            0\n",
            "price              0\n",
            "dtype: int64\n"
          ]
        }
      ],
      "source": [
        "# groupby data by brand and model, then calculate the average amout of tax\n",
        "UK_tax_avg = UK_cars.groupby(['brand','model'])['tax'].mean().reset_index()\n",
        "# extract the exact tax I want\n",
        "filter_cclass = UK_tax_avg.loc[(UK_tax_avg['model'] == ' C Class')]\n",
        "avg_tax_cclass = filter_cclass[\"tax\"]\n",
        "# canvert the series to a value\n",
        "avg_tax_cclass = avg_tax_cclass.values[0]\n",
        "print(filter_cclass)\n",
        "print(avg_tax_cclass)\n",
        "# Fill the Na value in cclass\n",
        "cclass[\"tax\"] = cclass[\"tax\"].fillna(avg_tax_cclass)\n",
        "print(cclass.isnull().sum())"
      ]
    },
    {
      "cell_type": "markdown",
      "metadata": {
        "id": "-PGL0pk-QHAw"
      },
      "source": [
        "<font face=\"Helvetica\" size=2 color=2e062f> **Focus** <font>\n",
        "---"
      ]
    },
    {
      "cell_type": "code",
      "execution_count": 161,
      "metadata": {
        "colab": {
          "base_uri": "https://localhost:8080/"
        },
        "id": "XOQ9xOqFQHAw",
        "outputId": "1202ac0b-12a3-4844-b3aa-ffb1c3c711ce"
      },
      "outputs": [
        {
          "output_type": "stream",
          "name": "stdout",
          "text": [
            "    brand   model         tax\n",
            "580  Ford   Focus  111.156277\n",
            "111.15627724498692\n",
            "brand           0\n",
            "model           0\n",
            "year            0\n",
            "transmission    0\n",
            "mileage         0\n",
            "fuelType        0\n",
            "engine_size     0\n",
            "tax             0\n",
            "mpg             0\n",
            "country         0\n",
            "price           0\n",
            "dtype: int64\n"
          ]
        }
      ],
      "source": [
        "# extract the exact tax I want from the data I groupby before\n",
        "filter_focus = UK_tax_avg.loc[(UK_tax_avg['model'] == ' Focus')]\n",
        "avg_tax_focus = filter_focus[\"tax\"]\n",
        "# canvert the series to a value\n",
        "avg_tax_focus = avg_tax_focus.values[0]\n",
        "print(filter_focus)\n",
        "print(avg_tax_focus)\n",
        "# Fill the Na value in cclass\n",
        "focus[\"tax\"] = focus[\"tax\"].fillna(avg_tax_focus)\n",
        "focus = focus.rename(columns={\"fuel_type\": \"fuelType\"})\n",
        "print(focus.isnull().sum())"
      ]
    },
    {
      "cell_type": "markdown",
      "metadata": {
        "id": "VJZllUGKQHAw"
      },
      "source": [
        "<font face=\"Helvetica\" size=3 color=2e062f> **Merging all UK data files** <font>\n",
        "---"
      ]
    },
    {
      "cell_type": "code",
      "execution_count": 162,
      "metadata": {
        "colab": {
          "base_uri": "https://localhost:8080/",
          "height": 429
        },
        "id": "VWkRIxpsQHAw",
        "outputId": "7a4ff362-49dc-4416-bdda-6540fe220633"
      },
      "outputs": [
        {
          "output_type": "execute_result",
          "data": {
            "text/plain": [
              "brand              0\n",
              "model              0\n",
              "year               0\n",
              "transmission       0\n",
              "mileage            0\n",
              "fuelType           0\n",
              "engine_size     3806\n",
              "tax             3521\n",
              "mpg             3521\n",
              "country            0\n",
              "price              0\n",
              "dtype: int64"
            ],
            "text/html": [
              "<div>\n",
              "<style scoped>\n",
              "    .dataframe tbody tr th:only-of-type {\n",
              "        vertical-align: middle;\n",
              "    }\n",
              "\n",
              "    .dataframe tbody tr th {\n",
              "        vertical-align: top;\n",
              "    }\n",
              "\n",
              "    .dataframe thead th {\n",
              "        text-align: right;\n",
              "    }\n",
              "</style>\n",
              "<table border=\"1\" class=\"dataframe\">\n",
              "  <thead>\n",
              "    <tr style=\"text-align: right;\">\n",
              "      <th></th>\n",
              "      <th>0</th>\n",
              "    </tr>\n",
              "  </thead>\n",
              "  <tbody>\n",
              "    <tr>\n",
              "      <th>brand</th>\n",
              "      <td>0</td>\n",
              "    </tr>\n",
              "    <tr>\n",
              "      <th>model</th>\n",
              "      <td>0</td>\n",
              "    </tr>\n",
              "    <tr>\n",
              "      <th>year</th>\n",
              "      <td>0</td>\n",
              "    </tr>\n",
              "    <tr>\n",
              "      <th>transmission</th>\n",
              "      <td>0</td>\n",
              "    </tr>\n",
              "    <tr>\n",
              "      <th>mileage</th>\n",
              "      <td>0</td>\n",
              "    </tr>\n",
              "    <tr>\n",
              "      <th>fuelType</th>\n",
              "      <td>0</td>\n",
              "    </tr>\n",
              "    <tr>\n",
              "      <th>engine_size</th>\n",
              "      <td>3806</td>\n",
              "    </tr>\n",
              "    <tr>\n",
              "      <th>tax</th>\n",
              "      <td>3521</td>\n",
              "    </tr>\n",
              "    <tr>\n",
              "      <th>mpg</th>\n",
              "      <td>3521</td>\n",
              "    </tr>\n",
              "    <tr>\n",
              "      <th>country</th>\n",
              "      <td>0</td>\n",
              "    </tr>\n",
              "    <tr>\n",
              "      <th>price</th>\n",
              "      <td>0</td>\n",
              "    </tr>\n",
              "  </tbody>\n",
              "</table>\n",
              "</div><br><label><b>dtype:</b> int64</label>"
            ]
          },
          "metadata": {},
          "execution_count": 162
        }
      ],
      "source": [
        "All_UK_car = pd.concat([UK_cars, cclass, focus], ignore_index=True)\n",
        "All_UK_car.isnull().sum()\n",
        "#UK_cars.isnull().sum()"
      ]
    },
    {
      "cell_type": "markdown",
      "metadata": {
        "id": "GZjqVGmwQHAw"
      },
      "source": [
        "<font face=\"Helvetica\" size=3 color=2e062f> **Coverting Price data from UK Pound to US Dollar** <font>\n",
        "---"
      ]
    },
    {
      "cell_type": "code",
      "execution_count": 163,
      "metadata": {
        "id": "aeFeHW0PQHAx"
      },
      "outputs": [],
      "source": [
        "\n",
        "\n",
        "# convert UK to USA in price column\n",
        "UK_cars[\"price\"] = UK_cars[\"price\"].str.replace(\",\", \"\").str.strip()\n",
        "UK_cars['price'] = UK_cars['price'].astype(float)\n",
        "UK_cars[\"price_GBP\"] = UK_cars[\"price\"]\n",
        "UK_cars.price = UK_cars.price_GBP * 1.34\n",
        "UK_cars = UK_cars.drop(columns = [\"price_GBP\"])\n",
        "\n"
      ]
    },
    {
      "cell_type": "code",
      "execution_count": 164,
      "metadata": {
        "id": "1M7iDe5oQHAx"
      },
      "outputs": [],
      "source": [
        "# convert UK to USA in tax column\n",
        "UK_cars[\"tax_GBP\"] = UK_cars[\"tax\"]\n",
        "UK_cars.tax = UK_cars.tax_GBP * 1.34\n",
        "UK_cars = UK_cars.drop(columns = [\"tax_GBP\"])"
      ]
    },
    {
      "cell_type": "markdown",
      "metadata": {
        "id": "z_gbqOR9QHAy"
      },
      "source": [
        "<font face=\"Helvetica\" size=3 color=2e062f> **Import USA Dataset** <font>\n",
        "---"
      ]
    },
    {
      "cell_type": "code",
      "execution_count": 165,
      "metadata": {
        "colab": {
          "base_uri": "https://localhost:8080/"
        },
        "id": "BaeZYuCSQHAy",
        "outputId": "7ba23f73-4e27-41a7-b120-ce61048e753f"
      },
      "outputs": [
        {
          "output_type": "stream",
          "name": "stdout",
          "text": [
            "<class 'pandas.core.frame.DataFrame'>\n",
            "RangeIndex: 3521 entries, 0 to 3520\n",
            "Data columns (total 11 columns):\n",
            " #   Column        Non-Null Count  Dtype  \n",
            "---  ------        --------------  -----  \n",
            " 0   brand         3521 non-null   object \n",
            " 1   model         3521 non-null   object \n",
            " 2   year          3521 non-null   int64  \n",
            " 3   transmission  3521 non-null   object \n",
            " 4   mileage       3521 non-null   int64  \n",
            " 5   fuelType      3521 non-null   object \n",
            " 6   engine_size   3521 non-null   float64\n",
            " 7   tax           0 non-null      float64\n",
            " 8   mpg           0 non-null      float64\n",
            " 9   country       3521 non-null   object \n",
            " 10  price         3521 non-null   object \n",
            "dtypes: float64(3), int64(2), object(6)\n",
            "memory usage: 302.7+ KB\n",
            "None\n"
          ]
        }
      ],
      "source": [
        "# import USA dataset\n",
        "USA_cars = pd.read_csv(\"/content/clean_USA.csv\")\n",
        "print(USA_cars.info())"
      ]
    },
    {
      "cell_type": "code",
      "execution_count": 166,
      "metadata": {
        "colab": {
          "base_uri": "https://localhost:8080/"
        },
        "id": "Td8wvgvAQHAy",
        "outputId": "51f237f8-1ef7-46a2-bf7b-a0b6268a8610"
      },
      "outputs": [
        {
          "output_type": "stream",
          "name": "stdout",
          "text": [
            "0        5500\n",
            "1        4000\n",
            "2       36570\n",
            "3       13888\n",
            "4       26000\n",
            "        ...  \n",
            "3516     3550\n",
            "3517    10500\n",
            "3518    42000\n",
            "3519    44900\n",
            "3520     5000\n",
            "Name: price, Length: 3521, dtype: int64\n"
          ]
        }
      ],
      "source": [
        "USA_cars[\"price\"] = USA_cars[\"price\"].str.replace(\",\", \"\").str.strip()\n",
        "USA_cars['price'] = USA_cars['price'].astype(int)\n",
        "print(USA_cars[\"price\"])"
      ]
    },
    {
      "cell_type": "markdown",
      "metadata": {
        "id": "ZDsK-VjBQHAy"
      },
      "source": [
        "<font face=\"Helvetica\" size=3 color=2e062f> **Imputed missing values in US data for tax and mpg using the average for the same brand and model from the UK dataset** <font>\n",
        "---"
      ]
    },
    {
      "cell_type": "code",
      "execution_count": 167,
      "metadata": {
        "colab": {
          "base_uri": "https://localhost:8080/"
        },
        "id": "6z8-1WO8QHAz",
        "outputId": "2e68a9be-f876-4693-acc8-304dacfc2253"
      },
      "outputs": [
        {
          "output_type": "stream",
          "name": "stdout",
          "text": [
            "['Acura' 'Alfa' 'Aston' 'Audi' 'BMW' 'Bentley' 'Buick' 'Cadillac'\n",
            " 'Chevrolet' 'Chrysler' 'Dodge' 'FIAT' 'Ferrari' 'Ford' 'GMC' 'Genesis'\n",
            " 'Honda' 'Hummer' 'Hyundai' 'INFINITI' 'Jaguar' 'Jeep' 'Kia' 'Lamborghini'\n",
            " 'Land' 'Lexus' 'Lincoln' 'Lotus' 'MINI' 'Maserati' 'Maybach' 'Mazda'\n",
            " 'McLaren' 'Mercedes-Benz' 'Mercury' 'Mitsubishi' 'Nissan' 'Plymouth'\n",
            " 'Pontiac' 'Porsche' 'RAM' 'Rolls-Royce' 'Saab' 'Saturn' 'Scion' 'Subaru'\n",
            " 'Suzuki' 'Toyota' 'Volkswagen' 'Volvo' 'smart' 'Hyundi' 'Merc' 'Skoda'\n",
            " 'Vauxhall']\n",
            "brand           0\n",
            "model           0\n",
            "year            0\n",
            "transmission    0\n",
            "mileage         0\n",
            "fuelType        0\n",
            "engine_size     0\n",
            "tax             0\n",
            "mpg             0\n",
            "country         0\n",
            "price           0\n",
            "dtype: int64\n"
          ]
        }
      ],
      "source": [
        "\n",
        "print(UK_cars.brand.unique())\n",
        "UK_avg_filter = UK_cars.groupby('brand').agg({'tax': 'mean', 'mpg': 'mean'}).reset_index()\n",
        "UK_tax_avg = UK_cars[\"tax\"].mean()\n",
        "UK_mpg_avg = UK_cars[\"mpg\"].mean()\n",
        "#print(UK_avg_filter)\n",
        "\n",
        "USA_filter = USA_cars.merge(UK_avg_filter, on='brand', how='left', suffixes=('', '_reference_value'))\n",
        "# Filling missing 'tax' and 'mpg' with values from the reference dataframe\n",
        "USA_cars[\"tax\"] = USA_filter[\"tax_reference_value\"]\n",
        "USA_cars[\"mpg\"] = USA_filter[\"mpg_reference_value\"]\n",
        "\n",
        "# fill the rest of car brand based on the average value from UK cars\n",
        "USA_cars[\"tax\"] = USA_cars[\"tax\"].fillna(UK_tax_avg)\n",
        "USA_cars[\"mpg\"] = USA_cars[\"mpg\"].fillna(UK_mpg_avg)\n",
        "\n",
        "print(USA_cars.isnull().sum())\n"
      ]
    },
    {
      "cell_type": "markdown",
      "metadata": {
        "id": "fcryVGLJQHAz"
      },
      "source": [
        "<font face=\"Helvetica\" size=3 color=2e062f> **Standardizing the format of information in both the datasets** <font>\n",
        "---\n",
        "\n",
        "\n",
        "\n"
      ]
    },
    {
      "cell_type": "code",
      "execution_count": 168,
      "metadata": {
        "id": "p7JNWZBpQHAz"
      },
      "outputs": [],
      "source": [
        "USA_cars['brand'] = USA_cars['brand'].replace('Mercedes-Benz', 'Merc')\n"
      ]
    },
    {
      "cell_type": "code",
      "execution_count": 169,
      "metadata": {
        "colab": {
          "base_uri": "https://localhost:8080/"
        },
        "id": "AEc0UwYGQHA0",
        "outputId": "67c6894d-540b-4150-9bbe-2ffadb086674"
      },
      "outputs": [
        {
          "output_type": "stream",
          "name": "stdout",
          "text": [
            "<class 'pandas.core.frame.DataFrame'>\n",
            "RangeIndex: 3521 entries, 0 to 3520\n",
            "Data columns (total 11 columns):\n",
            " #   Column        Non-Null Count  Dtype  \n",
            "---  ------        --------------  -----  \n",
            " 0   brand         3521 non-null   object \n",
            " 1   model         3521 non-null   object \n",
            " 2   year          3521 non-null   int64  \n",
            " 3   transmission  3521 non-null   object \n",
            " 4   mileage       3521 non-null   int64  \n",
            " 5   fuelType      3521 non-null   object \n",
            " 6   engine_size   3521 non-null   float64\n",
            " 7   tax           3521 non-null   float64\n",
            " 8   mpg           3521 non-null   float64\n",
            " 9   country       3521 non-null   object \n",
            " 10  price         3521 non-null   int64  \n",
            "dtypes: float64(3), int64(3), object(5)\n",
            "memory usage: 302.7+ KB\n",
            "None\n"
          ]
        }
      ],
      "source": [
        "print(USA_cars.info())"
      ]
    },
    {
      "cell_type": "markdown",
      "metadata": {
        "id": "AxNAQRGYQHA0"
      },
      "source": [
        "<font face=\"Helvetica\" size=3 color=2e062f> **Concatenating the US and UK datasets** <font>\n",
        "---"
      ]
    },
    {
      "cell_type": "code",
      "execution_count": 170,
      "metadata": {
        "colab": {
          "base_uri": "https://localhost:8080/"
        },
        "id": "ajvW9ZO9QHA1",
        "outputId": "91f25146-640c-48fc-d40f-8eb69d82f073"
      },
      "outputs": [
        {
          "output_type": "stream",
          "name": "stdout",
          "text": [
            "<class 'pandas.core.frame.DataFrame'>\n",
            "RangeIndex: 105013 entries, 0 to 105012\n",
            "Data columns (total 11 columns):\n",
            " #   Column        Non-Null Count   Dtype  \n",
            "---  ------        --------------   -----  \n",
            " 0   brand         105013 non-null  object \n",
            " 1   model         105013 non-null  object \n",
            " 2   year          105013 non-null  int64  \n",
            " 3   transmission  105013 non-null  object \n",
            " 4   mileage       105013 non-null  int64  \n",
            " 5   fuelType      105013 non-null  object \n",
            " 6   engine_size   101207 non-null  float64\n",
            " 7   tax           101492 non-null  float64\n",
            " 8   mpg           101492 non-null  float64\n",
            " 9   country       105013 non-null  object \n",
            " 10  price         105013 non-null  object \n",
            "dtypes: float64(3), int64(2), object(6)\n",
            "memory usage: 8.8+ MB\n",
            "None\n",
            "brand              0\n",
            "model              0\n",
            "year               0\n",
            "transmission       0\n",
            "mileage            0\n",
            "fuelType           0\n",
            "engine_size     3806\n",
            "tax             3521\n",
            "mpg             3521\n",
            "country            0\n",
            "price              0\n",
            "dtype: int64\n"
          ]
        }
      ],
      "source": [
        "final_used_cars = pd.concat([All_UK_car, USA_cars], ignore_index= True)\n",
        "#confirm there is no null value\n",
        "print(final_used_cars.info())\n",
        "print(final_used_cars.isnull().sum())\n"
      ]
    },
    {
      "cell_type": "code",
      "execution_count": 171,
      "metadata": {
        "colab": {
          "base_uri": "https://localhost:8080/"
        },
        "id": "YyfmlCBLQHA1",
        "outputId": "1741ef39-217b-48ad-e2ba-5dd05fa9ef78"
      },
      "outputs": [
        {
          "output_type": "stream",
          "name": "stdout",
          "text": [
            "['Gasoline' 'Hybrid' 'E85 Flex Fuel' 'Diesel' 'Plug-In Hybrid' 'Petrol'\n",
            " 'Other' 'Electric']\n",
            "['Petrol' 'Hybrid' 'Diesel' 'Other' 'Electric']\n"
          ]
        }
      ],
      "source": [
        "# standardize the fueltype column\n",
        "print(final_used_cars.fuelType.unique())\n",
        "final_used_cars[\"fuelType\"] = final_used_cars[\"fuelType\"].replace({'Gasoline': 'Petrol', 'E85 Flex Fuel': 'Petrol', 'Plug-In Hybrid' : 'Hybrid'})\n",
        "print(final_used_cars.fuelType.unique())"
      ]
    },
    {
      "cell_type": "code",
      "execution_count": 172,
      "metadata": {
        "colab": {
          "base_uri": "https://localhost:8080/"
        },
        "id": "R-u3-6qAQHA1",
        "outputId": "db3aaf06-56ea-4540-f3d8-e304d6dc89b2"
      },
      "outputs": [
        {
          "output_type": "stream",
          "name": "stdout",
          "text": [
            "['Automatic' 'Semi-Auto' 'Manual' 'Other']\n"
          ]
        }
      ],
      "source": [
        "print(final_used_cars.transmission.unique())"
      ]
    },
    {
      "cell_type": "code",
      "execution_count": 173,
      "metadata": {
        "colab": {
          "base_uri": "https://localhost:8080/",
          "height": 52
        },
        "id": "MIioqcE-QHA1",
        "outputId": "a42129ec-996d-44f6-99b3-0d42efe8d311"
      },
      "outputs": [
        {
          "output_type": "execute_result",
          "data": {
            "text/plain": [
              "\"\\n# assign path and file name\\nfolder_path = 'C:\\\\Users\\\\Rick\\\\OneDrive\\\\Desktop\\\\BA815_project\\\\clean_data\\\\'\\nfile_name = 'Final_used_cars.csv'\\nfile_path = folder_path + file_name\\n\\n# save dataframe as csv\\nfinal_used_cars.to_csv(file_path, index=False)\\nprint(f'File has been saved to {file_path}')\\n\""
            ],
            "application/vnd.google.colaboratory.intrinsic+json": {
              "type": "string"
            }
          },
          "metadata": {},
          "execution_count": 173
        }
      ],
      "source": [
        "\"\"\"\n",
        "# assign path and file name\n",
        "folder_path = 'C:\\\\Users\\\\Rick\\\\OneDrive\\\\Desktop\\\\BA815_project\\\\clean_data\\\\'\n",
        "file_name = 'Final_used_cars.csv'\n",
        "file_path = folder_path + file_name\n",
        "\n",
        "# save dataframe as csv\n",
        "final_used_cars.to_csv(file_path, index=False)\n",
        "print(f'File has been saved to {file_path}')\n",
        "\"\"\""
      ]
    },
    {
      "cell_type": "markdown",
      "metadata": {
        "id": "enRC1C32QHA2"
      },
      "source": [
        "<font face=\"Helvetica\" size=3 color=2e062f> **Dropping duplicated rows** <font>\n",
        "---"
      ]
    },
    {
      "cell_type": "code",
      "execution_count": 174,
      "metadata": {
        "colab": {
          "base_uri": "https://localhost:8080/"
        },
        "id": "uBWvuQr4QHA2",
        "outputId": "a3b3ac0f-5555-45ed-8f54-066ee634579f"
      },
      "outputs": [
        {
          "output_type": "stream",
          "name": "stdout",
          "text": [
            "2145\n"
          ]
        },
        {
          "output_type": "execute_result",
          "data": {
            "text/plain": [
              "0"
            ]
          },
          "metadata": {},
          "execution_count": 174
        }
      ],
      "source": [
        "# Check rows\n",
        "dupliccate_rows = final_used_cars.duplicated().sum()\n",
        "print(dupliccate_rows)\n",
        "\n",
        "# drop duplicated rows\n",
        "final_used_cars.drop_duplicates(inplace = True)\n",
        "final_used_cars.duplicated().sum()"
      ]
    },
    {
      "cell_type": "markdown",
      "metadata": {
        "id": "E-nuVm35QHA2"
      },
      "source": [
        "<font face=\"Helvetica\" size=3 color=2e062f> **Dropping rows where year is equal to 0 or greater than 2024** <font>\n",
        "---"
      ]
    },
    {
      "cell_type": "code",
      "execution_count": 175,
      "metadata": {
        "id": "DOmGz_G7QHA2"
      },
      "outputs": [],
      "source": [
        "# 1. delete the rows whose year column is 0\n",
        "final_used_cars = final_used_cars[final_used_cars['year'] != 0]\n",
        "\n",
        "# 2.  delete the rows whose year column is bigger thabn 2025\n",
        "final_used_cars = final_used_cars[final_used_cars['year'] <= 2025]"
      ]
    },
    {
      "cell_type": "markdown",
      "metadata": {
        "id": "Pq1yDX8xQHA2"
      },
      "source": [
        "<font face=\"Helvetica\" size=3 color=2e062f> **Dropping outliers from engine_size and mpg columns** <font>\n",
        "---"
      ]
    },
    {
      "cell_type": "code",
      "execution_count": 176,
      "metadata": {
        "id": "nbzfO0Z_QHA2"
      },
      "outputs": [],
      "source": [
        "final_used_cars = final_used_cars[final_used_cars['engine_size'] <= 10]\n",
        "final_used_cars = final_used_cars[final_used_cars['mpg'] < 200]"
      ]
    },
    {
      "cell_type": "code",
      "execution_count": 177,
      "metadata": {
        "colab": {
          "base_uri": "https://localhost:8080/",
          "height": 52
        },
        "id": "6LxTkoEUQHA4",
        "outputId": "f8306bd5-5793-41cd-add9-1fa0f85d0b6d"
      },
      "outputs": [
        {
          "output_type": "execute_result",
          "data": {
            "text/plain": [
              "\"\\n#  assign path and file name\\nfolder_path = 'C:\\\\Users\\\\Rick\\\\OneDrive\\\\Desktop\\\\BA815_project\\\\clean_data\\\\'\\nfile_name = 'Final_used_cars_v2.csv'\\nfile_path = folder_path + file_name\\n\\n# save dataframe as csv\\nfinal_used_cars.to_csv(file_path, index=False)\\nprint(f'File has been saved to {file_path}')\\n\""
            ],
            "application/vnd.google.colaboratory.intrinsic+json": {
              "type": "string"
            }
          },
          "metadata": {},
          "execution_count": 177
        }
      ],
      "source": [
        "\"\"\"\n",
        "#  assign path and file name\n",
        "folder_path = 'C:\\\\Users\\\\Rick\\\\OneDrive\\\\Desktop\\\\BA815_project\\\\clean_data\\\\'\n",
        "file_name = 'Final_used_cars_v2.csv'\n",
        "file_path = folder_path + file_name\n",
        "\n",
        "# save dataframe as csv\n",
        "final_used_cars.to_csv(file_path, index=False)\n",
        "print(f'File has been saved to {file_path}')\n",
        "\"\"\""
      ]
    },
    {
      "cell_type": "markdown",
      "metadata": {
        "id": "nRl0Jat5QHA4"
      },
      "source": [
        "<font face=\"Helvetica\" size=6 color=972c6b> **Exploratory Data Analysis** <font>\n",
        "\n",
        "----"
      ]
    },
    {
      "cell_type": "code",
      "execution_count": 178,
      "metadata": {
        "colab": {
          "base_uri": "https://localhost:8080/"
        },
        "id": "b6_oRV7tQHA4",
        "outputId": "fd7cf2df-4689-47c7-8e43-893b8e82b28e"
      },
      "outputs": [
        {
          "output_type": "stream",
          "name": "stdout",
          "text": [
            "<class 'pandas.core.frame.DataFrame'>\n",
            "RangeIndex: 109256 entries, 0 to 109255\n",
            "Data columns (total 11 columns):\n",
            " #   Column        Non-Null Count   Dtype  \n",
            "---  ------        --------------   -----  \n",
            " 0   brand         109256 non-null  object \n",
            " 1   model         109256 non-null  object \n",
            " 2   year          109256 non-null  int64  \n",
            " 3   transmission  109256 non-null  object \n",
            " 4   mileage       109256 non-null  int64  \n",
            " 5   fuelType      109256 non-null  object \n",
            " 6   engine_size   109256 non-null  float64\n",
            " 7   tax           109256 non-null  float64\n",
            " 8   mpg           109256 non-null  float64\n",
            " 9   country       109256 non-null  object \n",
            " 10  price         109256 non-null  int64  \n",
            "dtypes: float64(3), int64(3), object(5)\n",
            "memory usage: 9.2+ MB\n",
            "None\n"
          ]
        }
      ],
      "source": [
        "used_cars = pd.read_csv(\"/content/Final_version_used_cars.csv\")\n",
        "\n",
        "print(used_cars.info())"
      ]
    },
    {
      "cell_type": "code",
      "execution_count": 179,
      "metadata": {
        "colab": {
          "base_uri": "https://localhost:8080/",
          "height": 300
        },
        "id": "qeXBE840XC9X",
        "outputId": "b336e206-d94f-401a-9e99-f0a8e67cc58d"
      },
      "outputs": [
        {
          "output_type": "execute_result",
          "data": {
            "text/plain": [
              "             mileage    engine_size            tax            mpg  \\\n",
              "count  109256.000000  109256.000000  109256.000000  109256.000000   \n",
              "mean    24615.573772       1.729881     121.015752      55.249131   \n",
              "std     24126.653958       0.705454      60.356324      13.017085   \n",
              "min         1.000000       0.000000       0.000000       0.300000   \n",
              "25%      7942.000000       1.300000     111.156277      47.100000   \n",
              "50%     18002.500000       1.600000     145.000000      55.166825   \n",
              "75%     33467.000000       2.000000     145.000000      62.800000   \n",
              "max    405000.000000       8.400000     580.000000     188.300000   \n",
              "\n",
              "              price  \n",
              "count  1.092560e+05  \n",
              "mean   1.763630e+04  \n",
              "std    1.676364e+04  \n",
              "min    4.500000e+02  \n",
              "25%    1.026000e+04  \n",
              "50%    1.480000e+04  \n",
              "75%    2.125000e+04  \n",
              "max    2.954083e+06  "
            ],
            "text/html": [
              "\n",
              "  <div id=\"df-f4141908-5ca8-4130-b185-1f1639678f50\" class=\"colab-df-container\">\n",
              "    <div>\n",
              "<style scoped>\n",
              "    .dataframe tbody tr th:only-of-type {\n",
              "        vertical-align: middle;\n",
              "    }\n",
              "\n",
              "    .dataframe tbody tr th {\n",
              "        vertical-align: top;\n",
              "    }\n",
              "\n",
              "    .dataframe thead th {\n",
              "        text-align: right;\n",
              "    }\n",
              "</style>\n",
              "<table border=\"1\" class=\"dataframe\">\n",
              "  <thead>\n",
              "    <tr style=\"text-align: right;\">\n",
              "      <th></th>\n",
              "      <th>mileage</th>\n",
              "      <th>engine_size</th>\n",
              "      <th>tax</th>\n",
              "      <th>mpg</th>\n",
              "      <th>price</th>\n",
              "    </tr>\n",
              "  </thead>\n",
              "  <tbody>\n",
              "    <tr>\n",
              "      <th>count</th>\n",
              "      <td>109256.000000</td>\n",
              "      <td>109256.000000</td>\n",
              "      <td>109256.000000</td>\n",
              "      <td>109256.000000</td>\n",
              "      <td>1.092560e+05</td>\n",
              "    </tr>\n",
              "    <tr>\n",
              "      <th>mean</th>\n",
              "      <td>24615.573772</td>\n",
              "      <td>1.729881</td>\n",
              "      <td>121.015752</td>\n",
              "      <td>55.249131</td>\n",
              "      <td>1.763630e+04</td>\n",
              "    </tr>\n",
              "    <tr>\n",
              "      <th>std</th>\n",
              "      <td>24126.653958</td>\n",
              "      <td>0.705454</td>\n",
              "      <td>60.356324</td>\n",
              "      <td>13.017085</td>\n",
              "      <td>1.676364e+04</td>\n",
              "    </tr>\n",
              "    <tr>\n",
              "      <th>min</th>\n",
              "      <td>1.000000</td>\n",
              "      <td>0.000000</td>\n",
              "      <td>0.000000</td>\n",
              "      <td>0.300000</td>\n",
              "      <td>4.500000e+02</td>\n",
              "    </tr>\n",
              "    <tr>\n",
              "      <th>25%</th>\n",
              "      <td>7942.000000</td>\n",
              "      <td>1.300000</td>\n",
              "      <td>111.156277</td>\n",
              "      <td>47.100000</td>\n",
              "      <td>1.026000e+04</td>\n",
              "    </tr>\n",
              "    <tr>\n",
              "      <th>50%</th>\n",
              "      <td>18002.500000</td>\n",
              "      <td>1.600000</td>\n",
              "      <td>145.000000</td>\n",
              "      <td>55.166825</td>\n",
              "      <td>1.480000e+04</td>\n",
              "    </tr>\n",
              "    <tr>\n",
              "      <th>75%</th>\n",
              "      <td>33467.000000</td>\n",
              "      <td>2.000000</td>\n",
              "      <td>145.000000</td>\n",
              "      <td>62.800000</td>\n",
              "      <td>2.125000e+04</td>\n",
              "    </tr>\n",
              "    <tr>\n",
              "      <th>max</th>\n",
              "      <td>405000.000000</td>\n",
              "      <td>8.400000</td>\n",
              "      <td>580.000000</td>\n",
              "      <td>188.300000</td>\n",
              "      <td>2.954083e+06</td>\n",
              "    </tr>\n",
              "  </tbody>\n",
              "</table>\n",
              "</div>\n",
              "    <div class=\"colab-df-buttons\">\n",
              "\n",
              "  <div class=\"colab-df-container\">\n",
              "    <button class=\"colab-df-convert\" onclick=\"convertToInteractive('df-f4141908-5ca8-4130-b185-1f1639678f50')\"\n",
              "            title=\"Convert this dataframe to an interactive table.\"\n",
              "            style=\"display:none;\">\n",
              "\n",
              "  <svg xmlns=\"http://www.w3.org/2000/svg\" height=\"24px\" viewBox=\"0 -960 960 960\">\n",
              "    <path d=\"M120-120v-720h720v720H120Zm60-500h600v-160H180v160Zm220 220h160v-160H400v160Zm0 220h160v-160H400v160ZM180-400h160v-160H180v160Zm440 0h160v-160H620v160ZM180-180h160v-160H180v160Zm440 0h160v-160H620v160Z\"/>\n",
              "  </svg>\n",
              "    </button>\n",
              "\n",
              "  <style>\n",
              "    .colab-df-container {\n",
              "      display:flex;\n",
              "      gap: 12px;\n",
              "    }\n",
              "\n",
              "    .colab-df-convert {\n",
              "      background-color: #E8F0FE;\n",
              "      border: none;\n",
              "      border-radius: 50%;\n",
              "      cursor: pointer;\n",
              "      display: none;\n",
              "      fill: #1967D2;\n",
              "      height: 32px;\n",
              "      padding: 0 0 0 0;\n",
              "      width: 32px;\n",
              "    }\n",
              "\n",
              "    .colab-df-convert:hover {\n",
              "      background-color: #E2EBFA;\n",
              "      box-shadow: 0px 1px 2px rgba(60, 64, 67, 0.3), 0px 1px 3px 1px rgba(60, 64, 67, 0.15);\n",
              "      fill: #174EA6;\n",
              "    }\n",
              "\n",
              "    .colab-df-buttons div {\n",
              "      margin-bottom: 4px;\n",
              "    }\n",
              "\n",
              "    [theme=dark] .colab-df-convert {\n",
              "      background-color: #3B4455;\n",
              "      fill: #D2E3FC;\n",
              "    }\n",
              "\n",
              "    [theme=dark] .colab-df-convert:hover {\n",
              "      background-color: #434B5C;\n",
              "      box-shadow: 0px 1px 3px 1px rgba(0, 0, 0, 0.15);\n",
              "      filter: drop-shadow(0px 1px 2px rgba(0, 0, 0, 0.3));\n",
              "      fill: #FFFFFF;\n",
              "    }\n",
              "  </style>\n",
              "\n",
              "    <script>\n",
              "      const buttonEl =\n",
              "        document.querySelector('#df-f4141908-5ca8-4130-b185-1f1639678f50 button.colab-df-convert');\n",
              "      buttonEl.style.display =\n",
              "        google.colab.kernel.accessAllowed ? 'block' : 'none';\n",
              "\n",
              "      async function convertToInteractive(key) {\n",
              "        const element = document.querySelector('#df-f4141908-5ca8-4130-b185-1f1639678f50');\n",
              "        const dataTable =\n",
              "          await google.colab.kernel.invokeFunction('convertToInteractive',\n",
              "                                                    [key], {});\n",
              "        if (!dataTable) return;\n",
              "\n",
              "        const docLinkHtml = 'Like what you see? Visit the ' +\n",
              "          '<a target=\"_blank\" href=https://colab.research.google.com/notebooks/data_table.ipynb>data table notebook</a>'\n",
              "          + ' to learn more about interactive tables.';\n",
              "        element.innerHTML = '';\n",
              "        dataTable['output_type'] = 'display_data';\n",
              "        await google.colab.output.renderOutput(dataTable, element);\n",
              "        const docLink = document.createElement('div');\n",
              "        docLink.innerHTML = docLinkHtml;\n",
              "        element.appendChild(docLink);\n",
              "      }\n",
              "    </script>\n",
              "  </div>\n",
              "\n",
              "\n",
              "<div id=\"df-00a8314a-8af6-434e-ac8f-d7e0af3f8499\">\n",
              "  <button class=\"colab-df-quickchart\" onclick=\"quickchart('df-00a8314a-8af6-434e-ac8f-d7e0af3f8499')\"\n",
              "            title=\"Suggest charts\"\n",
              "            style=\"display:none;\">\n",
              "\n",
              "<svg xmlns=\"http://www.w3.org/2000/svg\" height=\"24px\"viewBox=\"0 0 24 24\"\n",
              "     width=\"24px\">\n",
              "    <g>\n",
              "        <path d=\"M19 3H5c-1.1 0-2 .9-2 2v14c0 1.1.9 2 2 2h14c1.1 0 2-.9 2-2V5c0-1.1-.9-2-2-2zM9 17H7v-7h2v7zm4 0h-2V7h2v10zm4 0h-2v-4h2v4z\"/>\n",
              "    </g>\n",
              "</svg>\n",
              "  </button>\n",
              "\n",
              "<style>\n",
              "  .colab-df-quickchart {\n",
              "      --bg-color: #E8F0FE;\n",
              "      --fill-color: #1967D2;\n",
              "      --hover-bg-color: #E2EBFA;\n",
              "      --hover-fill-color: #174EA6;\n",
              "      --disabled-fill-color: #AAA;\n",
              "      --disabled-bg-color: #DDD;\n",
              "  }\n",
              "\n",
              "  [theme=dark] .colab-df-quickchart {\n",
              "      --bg-color: #3B4455;\n",
              "      --fill-color: #D2E3FC;\n",
              "      --hover-bg-color: #434B5C;\n",
              "      --hover-fill-color: #FFFFFF;\n",
              "      --disabled-bg-color: #3B4455;\n",
              "      --disabled-fill-color: #666;\n",
              "  }\n",
              "\n",
              "  .colab-df-quickchart {\n",
              "    background-color: var(--bg-color);\n",
              "    border: none;\n",
              "    border-radius: 50%;\n",
              "    cursor: pointer;\n",
              "    display: none;\n",
              "    fill: var(--fill-color);\n",
              "    height: 32px;\n",
              "    padding: 0;\n",
              "    width: 32px;\n",
              "  }\n",
              "\n",
              "  .colab-df-quickchart:hover {\n",
              "    background-color: var(--hover-bg-color);\n",
              "    box-shadow: 0 1px 2px rgba(60, 64, 67, 0.3), 0 1px 3px 1px rgba(60, 64, 67, 0.15);\n",
              "    fill: var(--button-hover-fill-color);\n",
              "  }\n",
              "\n",
              "  .colab-df-quickchart-complete:disabled,\n",
              "  .colab-df-quickchart-complete:disabled:hover {\n",
              "    background-color: var(--disabled-bg-color);\n",
              "    fill: var(--disabled-fill-color);\n",
              "    box-shadow: none;\n",
              "  }\n",
              "\n",
              "  .colab-df-spinner {\n",
              "    border: 2px solid var(--fill-color);\n",
              "    border-color: transparent;\n",
              "    border-bottom-color: var(--fill-color);\n",
              "    animation:\n",
              "      spin 1s steps(1) infinite;\n",
              "  }\n",
              "\n",
              "  @keyframes spin {\n",
              "    0% {\n",
              "      border-color: transparent;\n",
              "      border-bottom-color: var(--fill-color);\n",
              "      border-left-color: var(--fill-color);\n",
              "    }\n",
              "    20% {\n",
              "      border-color: transparent;\n",
              "      border-left-color: var(--fill-color);\n",
              "      border-top-color: var(--fill-color);\n",
              "    }\n",
              "    30% {\n",
              "      border-color: transparent;\n",
              "      border-left-color: var(--fill-color);\n",
              "      border-top-color: var(--fill-color);\n",
              "      border-right-color: var(--fill-color);\n",
              "    }\n",
              "    40% {\n",
              "      border-color: transparent;\n",
              "      border-right-color: var(--fill-color);\n",
              "      border-top-color: var(--fill-color);\n",
              "    }\n",
              "    60% {\n",
              "      border-color: transparent;\n",
              "      border-right-color: var(--fill-color);\n",
              "    }\n",
              "    80% {\n",
              "      border-color: transparent;\n",
              "      border-right-color: var(--fill-color);\n",
              "      border-bottom-color: var(--fill-color);\n",
              "    }\n",
              "    90% {\n",
              "      border-color: transparent;\n",
              "      border-bottom-color: var(--fill-color);\n",
              "    }\n",
              "  }\n",
              "</style>\n",
              "\n",
              "  <script>\n",
              "    async function quickchart(key) {\n",
              "      const quickchartButtonEl =\n",
              "        document.querySelector('#' + key + ' button');\n",
              "      quickchartButtonEl.disabled = true;  // To prevent multiple clicks.\n",
              "      quickchartButtonEl.classList.add('colab-df-spinner');\n",
              "      try {\n",
              "        const charts = await google.colab.kernel.invokeFunction(\n",
              "            'suggestCharts', [key], {});\n",
              "      } catch (error) {\n",
              "        console.error('Error during call to suggestCharts:', error);\n",
              "      }\n",
              "      quickchartButtonEl.classList.remove('colab-df-spinner');\n",
              "      quickchartButtonEl.classList.add('colab-df-quickchart-complete');\n",
              "    }\n",
              "    (() => {\n",
              "      let quickchartButtonEl =\n",
              "        document.querySelector('#df-00a8314a-8af6-434e-ac8f-d7e0af3f8499 button');\n",
              "      quickchartButtonEl.style.display =\n",
              "        google.colab.kernel.accessAllowed ? 'block' : 'none';\n",
              "    })();\n",
              "  </script>\n",
              "</div>\n",
              "\n",
              "    </div>\n",
              "  </div>\n"
            ],
            "application/vnd.google.colaboratory.intrinsic+json": {
              "type": "dataframe",
              "summary": "{\n  \"name\": \"numeric_columns\",\n  \"rows\": 8,\n  \"fields\": [\n    {\n      \"column\": \"mileage\",\n      \"properties\": {\n        \"dtype\": \"number\",\n        \"std\": 136398.94828379384,\n        \"min\": 1.0,\n        \"max\": 405000.0,\n        \"num_unique_values\": 8,\n        \"samples\": [\n          24615.573771692172,\n          18002.5,\n          109256.0\n        ],\n        \"semantic_type\": \"\",\n        \"description\": \"\"\n      }\n    },\n    {\n      \"column\": \"engine_size\",\n      \"properties\": {\n        \"dtype\": \"number\",\n        \"std\": 38627.034575018995,\n        \"min\": 0.0,\n        \"max\": 109256.0,\n        \"num_unique_values\": 8,\n        \"samples\": [\n          1.7298808028849675,\n          1.6,\n          109256.0\n        ],\n        \"semantic_type\": \"\",\n        \"description\": \"\"\n      }\n    },\n    {\n      \"column\": \"tax\",\n      \"properties\": {\n        \"dtype\": \"number\",\n        \"std\": 38569.51276398584,\n        \"min\": 0.0,\n        \"max\": 109256.0,\n        \"num_unique_values\": 7,\n        \"samples\": [\n          109256.0,\n          121.01575167885709,\n          145.0\n        ],\n        \"semantic_type\": \"\",\n        \"description\": \"\"\n      }\n    },\n    {\n      \"column\": \"mpg\",\n      \"properties\": {\n        \"dtype\": \"number\",\n        \"std\": 38606.55994587866,\n        \"min\": 0.3,\n        \"max\": 109256.0,\n        \"num_unique_values\": 8,\n        \"samples\": [\n          55.249130830973634,\n          55.1668254912438,\n          109256.0\n        ],\n        \"semantic_type\": \"\",\n        \"description\": \"\"\n      }\n    },\n    {\n      \"column\": \"price\",\n      \"properties\": {\n        \"dtype\": \"number\",\n        \"std\": 1035369.3043462229,\n        \"min\": 450.0,\n        \"max\": 2954083.0,\n        \"num_unique_values\": 8,\n        \"samples\": [\n          17636.300294720655,\n          14800.0,\n          109256.0\n        ],\n        \"semantic_type\": \"\",\n        \"description\": \"\"\n      }\n    }\n  ]\n}"
            }
          },
          "metadata": {},
          "execution_count": 179
        }
      ],
      "source": [
        "# Check distribution for numeric features: price, tax, mileage,engine_size\n",
        "df = used_cars\n",
        "numeric_columns=df[['mileage','engine_size','tax','mpg','price']]\n",
        "numeric_columns.describe()"
      ]
    },
    {
      "cell_type": "markdown",
      "metadata": {
        "id": "llpCQmtRnx52"
      },
      "source": [
        "\n",
        "<font face=\"Helvetica\" size=5 color=2e062f> **Q. What are the most popular 10 brands in this dataset?** <font>\n",
        "---"
      ]
    },
    {
      "cell_type": "code",
      "source": [
        "\n",
        "import matplotlib.pyplot as plt\n",
        "#Identify the most popular brands by list frequencies\n",
        "df_top10 = df\n",
        "# Count the frequency of each brand\n",
        "brand_counts = df['brand'].value_counts()\n",
        "\n",
        "# Identify the top 10 brands\n",
        "top10_brands = brand_counts.index[:10]\n",
        "\n",
        "# Replace all brands that are not in the top 10 with 'Others'\n",
        "df_top10['brand'] = df['brand'].apply(lambda x: x if x in top10_brands else 'Others')\n",
        "\n",
        "# Recalculate the brand frequencies with 'Others'\n",
        "consolidated_brand_counts = df_top10['brand'].value_counts()\n",
        "\n",
        "# Plotting the pie chart for the top 10 brands + \"Others\"\n",
        "plt.figure(figsize=(10, 8))\n",
        "consolidated_brand_counts.plot(kind='pie', autopct='%1.1f%%', colors = ['#972C6B','#5C2C97','#b12a90','#972C3F','#8f0da4','#97902C','#faa637','#fbdd24','#e16462','#972C2C','#6B2C97'])\n",
        "plt.title('Frequency of Top 10 Popular Car Brands (Others Included)')\n",
        "plt.ylabel('')  # Hide the y-label for clarity\n",
        "plt.show()"
      ],
      "metadata": {
        "colab": {
          "base_uri": "https://localhost:8080/",
          "height": 675
        },
        "id": "YXG6501UwKGK",
        "outputId": "38a8fc55-cfda-4385-9041-c20e8cb976fa"
      },
      "execution_count": 180,
      "outputs": [
        {
          "output_type": "display_data",
          "data": {
            "text/plain": [
              "<Figure size 1000x800 with 1 Axes>"
            ],
            "image/png": "[encoded data removed]"
          },
          "metadata": {}
        }
      ]
    },
    {
      "cell_type": "markdown",
      "source": [
        "Based on the counts of each brand listed in the dataset, we identified the 10 most popular brands, and Ford takes one-fifth of the total. Given the fact that most of our data are from the UK second-hand car market, one key observation is that most of the top 10 brands are either from Germany or the USA, indicating the large market share of car manufacturers from the two countries."
      ],
      "metadata": {
        "id": "Ctj580Jz0fnd"
      }
    },
    {
      "cell_type": "markdown",
      "metadata": {
        "id": "BbY0p9D_n0j6"
      },
      "source": [
        "\n",
        "<font face=\"Helvetica\" size=5 color=2e062f> **Q. What numeric variables affect the price the most?** <font>\n",
        "---"
      ]
    },
    {
      "cell_type": "code",
      "execution_count": 181,
      "metadata": {
        "colab": {
          "base_uri": "https://localhost:8080/",
          "height": 716
        },
        "id": "ulLkYNwhYwsG",
        "outputId": "472b6435-04dd-4fa0-8127-a997db0744d2"
      },
      "outputs": [
        {
          "output_type": "execute_result",
          "data": {
            "text/plain": [
              "Text(0.5, 1.0, 'Correlation of numeric features')"
            ]
          },
          "metadata": {},
          "execution_count": 181
        },
        {
          "output_type": "display_data",
          "data": {
            "text/plain": [
              "<Figure size 1000x800 with 2 Axes>"
            ],
            "image/png": "[encoded data removed]"
          },
          "metadata": {}
        }
      ],
      "source": [
        "numeric_columns_corr = numeric_columns.corr()\n",
        "plt.figure(figsize=(10,8))\n",
        "sns.heatmap(numeric_columns_corr,cmap ='RdPu')\n",
        "plt.title('Correlation of numeric features')"
      ]
    },
    {
      "cell_type": "markdown",
      "source": [
        "Based on the correlation heatmap, prices of used cars are highly positively correlated with engine sizes and tax while negatively correlated with mileage and miles per gallon(mpg) feature.\n",
        "\n",
        "The mileage and mpg demonstrate a slight positive correlation. The correlation between mpg and engine size is negative, as smaller engines are generally more fuel-efficient because they require less fuel.\n",
        "\n",
        "Besides numeric values, we would also like to explore the categorical features of used cars.\n"
      ],
      "metadata": {
        "id": "ABbNulM_w-mX"
      }
    },
    {
      "cell_type": "markdown",
      "metadata": {
        "id": "rFPYo0aLYacU"
      },
      "source": [
        "\n",
        "\n",
        "<font face=\"Helvetica\" size=5 color=2e062f> **Q. Does engine_size show a positive correlation with car price based on the previous correlation matrix?** <font>\n",
        "---"
      ]
    },
    {
      "cell_type": "code",
      "execution_count": 182,
      "metadata": {
        "colab": {
          "base_uri": "https://localhost:8080/",
          "height": 872
        },
        "id": "5Ij4S55ywywu",
        "outputId": "1ba2c134-0967-4541-dd84-2a9dbcd9a9ca"
      },
      "outputs": [
        {
          "output_type": "display_data",
          "data": {
            "text/plain": [
              "<Figure size 1800x1000 with 1 Axes>"
            ],
            "image/png": "[encoded data removed]"
          },
          "metadata": {}
        }
      ],
      "source": [
        "# Price VS mileage, across fuel types\n",
        "df['log_price'] = np.log1p(df['price'])  # Using log1p to handle small price values\n",
        "plt.figure(figsize=(18, 10))\n",
        "#sns.scatterplot(x='mileage', y='log_price', data=df, hue = df[\"fuelType\"])\n",
        "df_filter = df[df[\"engine_size\"] != 0]\n",
        "sns.regplot(x='engine_size', y='log_price', data=df_filter, scatter_kws = {\"color\": \"#972C6B\", \"alpha\": 0.5}, line_kws = {\"color\": \"red\"})\n",
        "plt.title('Scatter plot of Log-Transformed Car Prices for engine size')\n",
        "plt.xlabel('Engine_size')\n",
        "plt.ylabel('Log Price')\n",
        "plt.xticks(rotation=65)\n",
        "plt.show()"
      ]
    },
    {
      "cell_type": "markdown",
      "source": [
        "There is a Positive Correlation between Engine Size and Price. As engine size increases, the price tends to rise. However, despite the trend, there is significant variability in prices for a given engine size. This means that factors other than engine size likely influence car prices.\n",
        "\n",
        "Another interesting point is that for larger engine sizes, points deviate significantly from the trend, indicating those outliers may represent luxury or high-performance vehicles with disproportionately high prices.\n"
      ],
      "metadata": {
        "id": "U9dKCQi0zipr"
      }
    },
    {
      "cell_type": "markdown",
      "metadata": {
        "id": "FKCS2wMOoMt3"
      },
      "source": [
        "\n",
        "\n",
        "\n",
        "<font face=\"Helvetica\" size=5 color=2e062f> **Q. Is the car price in UK more expensive than the car price in USA when the car is the same brand?** <font>\n",
        "---"
      ]
    },
    {
      "cell_type": "code",
      "execution_count": 183,
      "metadata": {
        "colab": {
          "base_uri": "https://localhost:8080/",
          "height": 928
        },
        "id": "4Fo-RFEXQHA5",
        "outputId": "65371a1d-6f3a-4693-9ae1-e335bcbbf57a"
      },
      "outputs": [
        {
          "output_type": "stream",
          "name": "stdout",
          "text": [
            "        brand      price_UK     price_USA\n",
            "0        Audi  22853.956081  36390.358382\n",
            "1         BMW  22709.187365  39218.489552\n",
            "2        Ford  12471.546972  34704.321330\n",
            "3        Merc  24552.025338  51089.060714\n",
            "4      Toyota  12493.574873  29612.413408\n",
            "5  Volkswagen  16807.898073  20953.169811\n"
          ]
        },
        {
          "output_type": "display_data",
          "data": {
            "text/plain": [
              "<Figure size 1000x800 with 1 Axes>"
            ],
            "image/png": "[encoded data removed]"
          },
          "metadata": {}
        }
      ],
      "source": [
        "#filter the brand that available in bith UK and USA\n",
        "UK_car = used_cars[used_cars['country'] == 'UK']\n",
        "UK_car = UK_car[UK_car[\"brand\"].isin([\"Audi\", \"BMW\", \"Ford\", \"Hyundai\", \"Merc\", \"Toyota\", \"Volkswagen\"])]\n",
        "USA_car = used_cars[used_cars['country'] == 'USA']\n",
        "USA_car = USA_car[USA_car[\"brand\"].isin([\"Audi\", \"BMW\", \"Ford\", \"Hyundai\", \"Merc\", \"Toyota\", \"Volkswagen\"])]\n",
        "\n",
        "# groupby the\n",
        "avg_UK_car = UK_car.groupby(\"brand\")[\"price\"].mean().reset_index()\n",
        "avg_USA_car = USA_car.groupby(\"brand\")[\"price\"].mean().reset_index()\n",
        "avg_UK_car = avg_UK_car.rename(columns = {\"price\" : \"price_UK\"})\n",
        "avg_USA_car = avg_USA_car.rename(columns = {\"price\" : \"price_USA\"})\n",
        "\n",
        "\n",
        "avg_car_price = avg_UK_car.merge(avg_USA_car, on = \"brand\", how = 'inner')\n",
        "print(avg_car_price)\n",
        "\n",
        "\n",
        "plt.figure(figsize=(10, 8))\n",
        "bar_width = 0.35\n",
        "index = range(len(avg_car_price))\n",
        "\n",
        "# Plotting the UK prices\n",
        "plt.bar(index, avg_car_price['price_UK'], bar_width, label='Price in UK', color=\"#fac0ff\")\n",
        "\n",
        "# Plotting the USA prices with an offset\n",
        "plt.bar([i + bar_width for i in index], avg_car_price['price_USA'], bar_width, label='Price in USA', color=\"#cc2790\")\n",
        "\n",
        "# Adding labels and title\n",
        "plt.xlabel('Car Brands')\n",
        "plt.ylabel('Price:US dollars')\n",
        "plt.title('Car Prices in UK vs USA')\n",
        "plt.xticks([i + bar_width / 2 for i in index], avg_car_price['brand'])\n",
        "plt.legend()\n",
        "\n",
        "# Show plot\n",
        "plt.tight_layout()\n",
        "plt.show()"
      ]
    },
    {
      "cell_type": "markdown",
      "metadata": {
        "id": "dnoXLgc4QHA5"
      },
      "source": [
        "To answer the question above, we filter the brands that are available in both the USA and the UK, group the data by these brands, and calculate the average values for each country.  Based on the chart, it is surprising that the average car price in the UK is cheaper in the USA. Especially Ford, the USA car brand, sell higher price in USA than in UK."
      ]
    },
    {
      "cell_type": "markdown",
      "metadata": {
        "id": "_8AfMIt-dC4N"
      },
      "source": [
        "\n",
        "\n",
        "<font face=\"Helvetica\" size=5 color=2e062f> **Q. What is the most common transmission type among each fuel type of US and UK cars?** <font>\n",
        "---"
      ]
    },
    {
      "cell_type": "code",
      "execution_count": 184,
      "metadata": {
        "colab": {
          "base_uri": "https://localhost:8080/",
          "height": 705
        },
        "id": "Sodb6MMjbg3w",
        "outputId": "54ea8a31-72db-43c4-83d6-ef5648dfde4b"
      },
      "outputs": [
        {
          "output_type": "stream",
          "name": "stderr",
          "text": [
            "/usr/local/lib/python3.10/dist-packages/seaborn/_base.py:949: FutureWarning: When grouping with a length-1 list-like, you will need to pass a length-1 tuple to get_group in a future version of pandas. Pass `(name,)` instead of `name` to silence this warning.\n",
            "  data_subset = grouped_data.get_group(pd_key)\n",
            "/usr/local/lib/python3.10/dist-packages/seaborn/_base.py:949: FutureWarning: When grouping with a length-1 list-like, you will need to pass a length-1 tuple to get_group in a future version of pandas. Pass `(name,)` instead of `name` to silence this warning.\n",
            "  data_subset = grouped_data.get_group(pd_key)\n",
            "/usr/local/lib/python3.10/dist-packages/seaborn/_base.py:949: FutureWarning: When grouping with a length-1 list-like, you will need to pass a length-1 tuple to get_group in a future version of pandas. Pass `(name,)` instead of `name` to silence this warning.\n",
            "  data_subset = grouped_data.get_group(pd_key)\n",
            "/usr/local/lib/python3.10/dist-packages/seaborn/_base.py:949: FutureWarning: When grouping with a length-1 list-like, you will need to pass a length-1 tuple to get_group in a future version of pandas. Pass `(name,)` instead of `name` to silence this warning.\n",
            "  data_subset = grouped_data.get_group(pd_key)\n"
          ]
        },
        {
          "output_type": "display_data",
          "data": {
            "text/plain": [
              "<Figure size 1000x800 with 0 Axes>"
            ]
          },
          "metadata": {}
        },
        {
          "output_type": "display_data",
          "data": {
            "text/plain": [
              "<Figure size 621.5x500 with 1 Axes>"
            ],
            "image/png": "[encoded data removed]"
          },
          "metadata": {}
        }
      ],
      "source": [
        "import seaborn as sns\n",
        "import matplotlib.pyplot as plt\n",
        "df_final = used_cars\n",
        "plt.figure(figsize=(10, 8))\n",
        "sns.catplot(x=\"fuelType\", kind=\"count\", hue='transmission', palette= \"plasma\", data=df_final)\n",
        "plt.title('Disribution of Fuel Type by Transmission')\n",
        "plt.xlabel(\"Fuel Type\")\n",
        "plt.ylabel(\"Number of Cars\")\n",
        "plt.show()"
      ]
    },
    {
      "cell_type": "markdown",
      "source": [
        "This visualization provides valuable insights into the relationship between fuel types and transmission systems in cars, highlighting the most common pairings. By examining the data, we can better understand which transmission types are prevalent across different fuel types and identify potential trends or patterns.\n",
        "As indicated by the bar chart, petrol-powered cars predominantly feature manual transmissions, with significantly fewer automatic and semi-automatic options available. In the case of diesel vehicles, manual transmissions remain the most common, but the gap between manual and automatic/semi-automatic is narrower, with only around 1,000 fewer cars equipped with these transmission types. Hybrid cars, on the other hand, show a clear preference for automatic transmissions, with only a small proportion utilizing other transmission types.\n",
        "This analysis is useful for understanding consumer preferences and market trends in the used car industry in the USA and UK, helping both sellers and buyers understand which fuel-transmission combinations are the most popular. Understanding these trends can assist in setting competitive prices, as cars with less common fuel-transmission pairings may command a premium due to their rarity.\n"
      ],
      "metadata": {
        "id": "f3XfrOveyJKO"
      }
    },
    {
      "cell_type": "markdown",
      "source": [
        "<font face=\"Helvetica\" size=6 color=972c6b> **Conclusion** <font>\n",
        "\n",
        "----"
      ],
      "metadata": {
        "id": "hae3TK7vaSXp"
      }
    },
    {
      "cell_type": "markdown",
      "source": [
        "Through the process of EDA, we examined the relationships between various variables. Notably, the correlation between engine size and price was the highest and positively correlated, which was further confirmed by the scatter plot, one of our visualizations. This result slightly surprised us, as we initially expected mileage to have the strongest correlation with price. However, upon further reflection, it makes sense—vehicles with larger engines tend to have higher costs, which drives up their overall price. Although the correlations of other variables appear to be lower, it’s too early to draw firm conclusions. Correlation only measures linear relationships, so other variables may have more complex, non-linear relationships with price that we have yet to explore.\n",
        "\n",
        "In addition, we discovered that the average car price in the U.S. is generally higher than in the U.K., even for American brands like Ford. However, this may be explained by Ford’s pricing strategy, as it holds the highest market share in the used car markets of both countries. On the other hand, the British car manufacturer Vauxhall, while performing decently, is outperformed by several foreign brands, such as Mercedes, which is worth noting.\n",
        "\n",
        "Lastly, we observed the distribution of fuel types and transmission systems across cars. It’s interesting to note that manual transmission is still prevalent for both petrol and diesel vehicles. This is understandable for diesel cars, as most are commercial vehicles that traditionally use manual transmission. However, we would have expected petrol cars to predominantly feature automatic transmissions. On the other hand, most hybrid cars come with automatic transmissions, though their numbers remain relatively low. We speculate that this discrepancy may stem from the dataset itself, which spans from 1996 to 2024. Older petrol cars were likely equipped with manual transmissions, and hybrid transmission systems are a more recent innovation. This could explain why manual transmissions are still common in petrol cars and why there are so few hybrids in the dataset.\n"
      ],
      "metadata": {
        "id": "XlrUWMvvbBZu"
      }
    },
    {
      "cell_type": "markdown",
      "source": [
        "<font face=\"Helvetica\" size=6 color=972c6b> **References** <font>\n",
        "\n",
        "----"
      ],
      "metadata": {
        "id": "xZsSDVmvaaLP"
      }
    },
    {
      "cell_type": "markdown",
      "source": [
        "\n",
        "* Car engine sizes explained: https://www.carwow.co.uk/guides/choosing/what-engine-size-do-i-need-0521#gref\n",
        "\n",
        "\n",
        "* Engine size conversion chart: https://www.cjponyparts.com/resources/engine-size-chart?srsltid=AfmBOoptnLJ8H7BknSmYM8FATG8py7YvqI5qAB0Kf8MEw9mb0cZ6Vz4v\n",
        "\n",
        "\n",
        "* Diesel engines can be up to 40% more efficient than petrol engines:\n",
        "https://www.acea.auto/fact/differences-between-diesel-and-petrol/\n"
      ],
      "metadata": {
        "id": "BUHkPddJiruD"
      }
    },
    {
      "cell_type": "markdown",
      "source": [
        "<font face=\"Helvetica\" size=6 color=972c6b> **Generative AI Discolure** <font>\n",
        "\n",
        "----"
      ],
      "metadata": {
        "id": "mxaiy0SSaagm"
      }
    },
    {
      "cell_type": "markdown",
      "source": [
        "\n",
        "\n",
        "<font face=\"Helvetica\" size=5 color=2e062f> **Generative AI Disclosure Statement**<font>\n",
        "\n",
        "\n",
        "\n",
        " We have utilized Generative AI tools to assist with various aspects of this project. Below describe the criteria we used the tools:\n",
        "\n",
        "* **Content Generation:**  ChatGPT was used to brainstorm ideas on EDA\n",
        "* **Code Debugging:** Intellicode and ChatGPT suggested ways to improve our Python code, including providing example code, optimizing algorithms, and resolving potential errors.\n",
        "\n",
        "* **Proofreading and Grammar Checks:** We used Grammarly and Chatgpt to refine our writing, improve readability, and ensure grammatical accuracy.\n",
        "\n",
        "* **Fact Check for key observations:** Utilized ChatGPT as a resource to fact check assumptions and statements made in the analysis process.\n",
        "\n",
        "* **Assistance with code:** Generative AI was utilized to correctly code the for loop, enabling the generation of brand-specific graphs depicting the relationship between mean price and mileage.\n",
        "\n",
        "* **Assistance with code:** utilize generative AI to suggest the correlation in data that is able to match and create findings based on the research proposal\n",
        "Assistance with code: ChatGPT was used to debug the codes for data visualization.\n",
        "\n",
        "Our team has reviewed, edited, and validated all AI-generated content to ensure its accuracy, relevance, and originality in accordance with academic integrity guidelines.\n"
      ],
      "metadata": {
        "id": "qPVaVi61iUSm"
      }
    },
    {
      "cell_type": "code",
      "source": [],
      "metadata": {
        "id": "BcKZ6No5agaD"
      },
      "execution_count": 184,
      "outputs": []
    }
  ],
  "metadata": {
    "colab": {
      "provenance": []
    },
    "kernelspec": {
      "display_name": "Python 3",
      "language": "python",
      "name": "python3"
    },
    "language_info": {
      "codemirror_mode": {
        "name": "ipython",
        "version": 3
      },
      "file_extension": ".py",
      "mimetype": "text/x-python",
      "name": "python",
      "nbconvert_exporter": "python",
      "pygments_lexer": "ipython3",
      "version": "3.11.9"
    }
  },
  "nbformat": 4,
  "nbformat_minor": 0
}